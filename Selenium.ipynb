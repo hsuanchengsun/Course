{
 "cells": [
  {
   "cell_type": "code",
   "execution_count": 1,
   "metadata": {
    "collapsed": false
   },
   "outputs": [
    {
     "name": "stdout",
     "output_type": "stream",
     "text": [
      "Requirement already satisfied: selenium in /Users/jason/anaconda/lib/python3.6/site-packages\n",
      "Requirement already satisfied: urllib3 in /Users/jason/anaconda/lib/python3.6/site-packages (from selenium)\n",
      "\u001b[33mYou are using pip version 9.0.3, however version 19.3.1 is available.\n",
      "You should consider upgrading via the 'pip install --upgrade pip' command.\u001b[0m\n"
     ]
    }
   ],
   "source": [
    "#下載安裝\n",
    "\n",
    "! pip install selenium"
   ]
  },
  {
   "cell_type": "markdown",
   "metadata": {},
   "source": [
    "## https://chromedriver.chromium.org/"
   ]
  },
  {
   "cell_type": "code",
   "execution_count": 122,
   "metadata": {
    "collapsed": true
   },
   "outputs": [],
   "source": [
    "from selenium import webdriver"
   ]
  },
  {
   "cell_type": "code",
   "execution_count": 123,
   "metadata": {
    "collapsed": true
   },
   "outputs": [],
   "source": [
    "# 設定網址\n",
    "\n",
    "path = 'https://www.google.com.tw'"
   ]
  },
  {
   "cell_type": "code",
   "execution_count": 124,
   "metadata": {
    "collapsed": false
   },
   "outputs": [],
   "source": [
    "# 叫出瀏覽器\n",
    "\n",
    "driver = webdriver.Chrome('./chromedriver')"
   ]
  },
  {
   "cell_type": "code",
   "execution_count": 125,
   "metadata": {
    "collapsed": false
   },
   "outputs": [],
   "source": [
    "driver.get(path)"
   ]
  },
  {
   "cell_type": "code",
   "execution_count": 12,
   "metadata": {
    "collapsed": true
   },
   "outputs": [],
   "source": [
    "#關閉瀏覽器\n",
    "\n",
    "#driver.close()"
   ]
  },
  {
   "cell_type": "code",
   "execution_count": 14,
   "metadata": {
    "collapsed": false
   },
   "outputs": [],
   "source": [
    "driver = webdriver.Chrome('./chromedriver')\n",
    "driver.get(path)"
   ]
  },
  {
   "cell_type": "code",
   "execution_count": 126,
   "metadata": {
    "collapsed": true
   },
   "outputs": [],
   "source": [
    "#輸入搜尋結果\n",
    "\n",
    "search = driver.find_element_by_name(\"q\")"
   ]
  },
  {
   "cell_type": "code",
   "execution_count": 127,
   "metadata": {
    "collapsed": true
   },
   "outputs": [],
   "source": [
    "name = \"政大課表\""
   ]
  },
  {
   "cell_type": "code",
   "execution_count": 128,
   "metadata": {
    "collapsed": false
   },
   "outputs": [],
   "source": [
    "search.send_keys(name)"
   ]
  },
  {
   "cell_type": "code",
   "execution_count": 129,
   "metadata": {
    "collapsed": true
   },
   "outputs": [],
   "source": [
    "from selenium.webdriver.common.keys import Keys"
   ]
  },
  {
   "cell_type": "code",
   "execution_count": 130,
   "metadata": {
    "collapsed": true
   },
   "outputs": [],
   "source": [
    "search.send_keys(Keys.RETURN)"
   ]
  },
  {
   "cell_type": "code",
   "execution_count": 131,
   "metadata": {
    "collapsed": true
   },
   "outputs": [],
   "source": [
    "#進入課表\n",
    "\n",
    "css = \"#rso > div > div > div:nth-child(1) > div > div > div.r > a > h3 > span\""
   ]
  },
  {
   "cell_type": "code",
   "execution_count": 132,
   "metadata": {
    "collapsed": false
   },
   "outputs": [],
   "source": [
    "element = driver.find_element_by_css_selector(css)"
   ]
  },
  {
   "cell_type": "code",
   "execution_count": 133,
   "metadata": {
    "collapsed": false
   },
   "outputs": [
    {
     "data": {
      "text/plain": [
       "<selenium.webdriver.remote.webelement.WebElement (session=\"e78efe4134216a4947e4b53eef7337bf\", element=\"5cf0a515-0d1c-4d4f-9ccc-fda440554a06\")>"
      ]
     },
     "execution_count": 133,
     "metadata": {},
     "output_type": "execute_result"
    }
   ],
   "source": [
    "element"
   ]
  },
  {
   "cell_type": "code",
   "execution_count": 134,
   "metadata": {
    "collapsed": false
   },
   "outputs": [],
   "source": [
    "element.click()"
   ]
  },
  {
   "cell_type": "code",
   "execution_count": 137,
   "metadata": {
    "collapsed": false
   },
   "outputs": [],
   "source": [
    "#輸入數學，點擊搜尋\n",
    "\n",
    "search = driver.find_element_by_id(\"txt-search\")\n",
    "search.send_keys(\"數學\")\n",
    "search.send_keys(Keys.RETURN)"
   ]
  },
  {
   "cell_type": "code",
   "execution_count": 139,
   "metadata": {
    "collapsed": true
   },
   "outputs": [],
   "source": [
    "element = driver.find_element_by_id(\"btn-search\")\n",
    "element.click()"
   ]
  },
  {
   "cell_type": "code",
   "execution_count": 140,
   "metadata": {
    "collapsed": false
   },
   "outputs": [
    {
     "data": {
      "text/plain": [
       "'當學期簡易課程查詢'"
      ]
     },
     "execution_count": 140,
     "metadata": {},
     "output_type": "execute_result"
    }
   ],
   "source": [
    "#一些小資訊\n",
    "\n",
    "driver.title"
   ]
  },
  {
   "cell_type": "code",
   "execution_count": 141,
   "metadata": {
    "collapsed": false
   },
   "outputs": [
    {
     "data": {
      "text/plain": [
       "'http://wa.nccu.edu.tw/QryTor/1081.html'"
      ]
     },
     "execution_count": 141,
     "metadata": {},
     "output_type": "execute_result"
    }
   ],
   "source": [
    "driver.current_url"
   ]
  },
  {
   "cell_type": "code",
   "execution_count": 142,
   "metadata": {
    "collapsed": false
   },
   "outputs": [
    {
     "data": {
      "text/plain": [
       "'<html><head>\\n\\t\\t<meta http-equiv=\"X-UA-Compatible\" content=\"IE=edge,chrome=1\">\\n\\t\\t<meta name=\"viewport\" content=\"width=device-width, initial-scale=1\">\\n\\t\\t<meta http-equiv=\"Content-Type\" content=\"text/html; charset=utf-8\">\\n\\t\\t<meta name=\"google-site-verification\" content=\"8OSezL9iAQZFiDUYTYTY-VYYkFhT-dlRd-XMAJzZb-s\">\\n\\t\\t<title>當學期簡易課程查詢</title>\\n\\t\\t<!-- Latest compiled and minified CSS -->\\n\\t\\t<link rel=\"stylesheet\" href=\"https://maxcdn.bootstrapcdn.com/bootstrap/3.3.7/css/bootstrap.min.css\">\\n\\t\\t<!-- jQuery library -->\\n\\t\\t<script src=\"https://ajax.googleapis.com/ajax/libs/jquery/3.2.1/jquery.min.js\"></script>\\n\\t\\t<!-- Latest compiled JavaScript -->\\n\\t\\t<script src=\"https://maxcdn.bootstrapcdn.com/bootstrap/3.3.7/js/bootstrap.min.js\"></script> \\n\\t\\t<script>\\n\\t\\t\\t$(document).ready(function() {\\n\\t\\t\\t\\t$(\"#txt-search\").focus();\\n\\t\\t\\t\\t$(\\'#txt-search\\').keypress(function(e) {\\n\\t\\t\\t\\t    if(e.which == 13) {\\n\\t\\t\\t\\t    \\t//$(\\'#btn-search\\').focus();\\n\\t\\t\\t\\t    \\t$(\\'#btn-search\\').click();\\n\\t\\t\\t\\t    \\te.preventDefault();\\n\\t\\t\\t\\t    }\\n\\t\\t\\t\\t});\\n\\t\\t\\t});\\n\\t\\t</script>\\n\\t\\t<style>\\n\\t\\t\\t@media print {\\n\\t\\t\\t\\ta[href]:after {\\n\\t\\t\\t\\t\\tcontent: none !important;\\n\\t\\t\\t\\t}\\n\\t\\t\\t}\\n\\t\\t</style>\\n\\t</head>\\n\\t\\n\\t<body class=\"body-index\">\\n\\t    <br><br>\\n\\t\\t<div class=\"container-bg\">\\n\\t\\t\\t<div class=\"container\">\\n\\t\\t\\t\\t\\n\\t\\t\\t\\t<form class=\"form-horizontal\">\\n\\t\\t\\t\\t\\t<div class=\"form-group\">\\n\\t\\t\\t\\t\\t\\t<div class=\"col-xs-12 col-sm-8\">\\n\\t\\t\\t\\t\\t\\t\\t<table width=\"100%\" border=\"0\">\\n\\t\\t\\t\\t\\t\\t\\t\\t<tbody><tr><td colspan=\"3\"><h3>108學年度第一學期</h3></td></tr>\\n\\t\\t\\t\\t\\t\\t\\t\\t<tr>\\n\\t\\t\\t\\t\\t\\t\\t\\t\\t<td width=\"40%\"><input type=\"text\" id=\"txt-search\" class=\"form-control\" placeholder=\"請輸入查詢關鍵字\"></td>\\n\\t\\t\\t\\t\\t\\t\\t\\t\\t<td>&nbsp;</td>\\n\\t\\t\\t\\t\\t\\t\\t\\t\\t<td><input type=\"button\" id=\"btn-search\" value=\"查詢\" class=\"btn btn-primary\"></td>\\n\\t\\t\\t\\t\\t\\t\\t\\t</tr>\\n\\t\\t\\t\\t\\t\\t\\t</tbody></table>\\n\\t\\t\\t\\t\\t\\t</div>\\n\\t\\t\\t\\t\\t</div>\\n\\t\\t\\t\\t</form>\\n\\t\\t\\t\\t<br>\\n\\n\\t\\t\\t\\t<div id=\"filter-records\"><table class=\"table table-hover\"><thead><tr><th>&nbsp;</th><th>科目<br>代碼</th><th>科目<br>名稱</th><th width=\"6%\">教師<br>姓名</th><th>學分數</th><th>上課<br>時間</th><th>上課<br>教室</th><th width=\"6%\">開課<br>單位</th><th>必/選<br>修別</th><th>授課<br>語言</th><th width=\"4%\">通識<br>類別</th><th>核心<br>通識</th><th>教學<br>大綱</th><th width=\"15%\">備註/<br>異動</th></tr></thead><tbody><tr><td>&nbsp;</td><td>043030001</td><td><a href=\"http://newdoc.nccu.edu.tw/teaschm/1081/set00.jsp-yy=108&amp;smt=1&amp;num=043030&amp;gop=00&amp;s=1&amp;willtpe=1.htm\" target=\"_blink\">數學、邏輯與人生Mathematics, Logic and Life</a></td><td><a href=\"http://newdoc.nccu.edu.tw/teaschm/teaexp/teaExp.jsp-tnum=751003.htm\" target=\"_blink\">吳柏林</a></td><td>3.0</td><td>一78E / <br></td><td>大勇210202</td><td>應數系</td><td>群/Partially Required</td><td>中文/<br>Mandarin</td><td>自然通識</td><td>是/Yes</td><td><a href=\"http://newdoc.nccu.edu.tw/teaschm/1081/schmPrv.jsp-yy=108&amp;smt=1&amp;num=043030&amp;gop=00&amp;s=1.html\" target=\"_blink\"><img src=\"teach_agenda.gif\" border=\"0\"></a></td><td><font color=\"#A80000\">＠異動資訊Information of alteration:N/A</font><br>＠備註Note:N/A</td></tr><tr><td>&nbsp;</td><td>043030011</td><td><a href=\"http://newdoc.nccu.edu.tw/teaschm/1081/set00.jsp-yy=108&amp;smt=1&amp;num=043030&amp;gop=01&amp;s=1&amp;willtpe=1.htm\" target=\"_blink\">數學、邏輯與人生Mathematics, Logic and Life</a></td><td><a href=\"http://newdoc.nccu.edu.tw/teaschm/teaexp/teaExp.jsp-tnum=751007.htm\" target=\"_blink\">陸行</a></td><td>3.0</td><td>四78E / <br></td><td>大勇210105</td><td>應數系</td><td>群/Partially Required</td><td>中文/<br>Mandarin</td><td>自然通識</td><td>是/Yes</td><td><a href=\"http://newdoc.nccu.edu.tw/teaschm/1081/schmPrv.jsp-yy=108&amp;smt=1&amp;num=043030&amp;gop=01&amp;s=1.html\" target=\"_blink\"><img src=\"teach_agenda.gif\" border=\"0\"></a></td><td><font color=\"#A80000\">＠異動資訊Information of alteration:N/A</font><br>＠備註Note:N/A</td></tr><tr><td>&nbsp;</td><td>050091001</td><td><a href=\"http://newdoc.nccu.edu.tw/teaschm/1081/set00.jsp-yy=108&amp;smt=1&amp;num=050091&amp;gop=00&amp;s=1&amp;willtpe=1.htm\" target=\"_blink\">服務學習課程－校園服務與數學諮詢Service-Learning－On Campus Service and Math Tutoring</a></td><td><a href=\"http://newdoc.nccu.edu.tw/teaschm/teaexp/teaExp.jsp-tnum=118633.htm\" target=\"_blink\">陳隆奇</a></td><td>0.0</td><td>二C / <br></td><td>志希070221</td><td>應數系</td><td>必/Required</td><td>中文/<br>Mandarin</td><td></td><td>否/No</td><td><a href=\"http://newdoc.nccu.edu.tw/teaschm/1081/schmPrv.jsp-yy=108&amp;smt=1&amp;num=050091&amp;gop=00&amp;s=1.html\" target=\"_blink\"><img src=\"teach_agenda.gif\" border=\"0\"></a></td><td><font color=\"#A80000\">＠異動資訊Information of alteration:N/A</font><br>＠備註Note:第一堂課在志希樓二樓070221教室，請務必出席，要討論工作分配。</td></tr><tr><td>&nbsp;</td><td>102117001</td><td><a href=\"http://newdoc.nccu.edu.tw/teaschm/1081/set00.jsp-yy=108&amp;smt=1&amp;num=102117&amp;gop=00&amp;s=1&amp;willtpe=0.htm\" target=\"_blink\">數學領域教材教法Teaching Methods and Materials in Mathematics</a></td><td><a href=\"http://newdoc.nccu.edu.tw/teaschm/teaexp/teaExp.jsp-tnum=106993.htm\" target=\"_blink\">洪煌堯</a></td><td>2.0</td><td>二78 / <br></td><td>井塘020111</td><td>教育三教育四</td><td>群/Partially Required</td><td><br>中文</td><td></td><td>否/No</td><td><a href=\"http://newdoc.nccu.edu.tw/teaschm/1081/schmPrv.jsp-yy=108&amp;smt=1&amp;num=102117&amp;gop=00&amp;s=1.html\" target=\"_blink\"><img src=\"teach_agenda.gif\" border=\"0\"></a></td><td><font color=\"#A80000\">＠異動資訊Information of alteration:N/A</font><br>＠備註Note:與師培合開</td></tr><tr><td>&nbsp;</td><td>109034001</td><td><a href=\"http://newdoc.nccu.edu.tw/teaschm/1081/set00.jsp-yy=108&amp;smt=1&amp;num=109034&amp;gop=00&amp;s=1&amp;willtpe=2.htm\" target=\"_blink\">數學領域教材教法Teaching Methods and Materials in Mathematics</a></td><td><a href=\"http://newdoc.nccu.edu.tw/teaschm/teaexp/teaExp.jsp-tnum=106993.htm\" target=\"_blink\">洪煌堯</a></td><td>2.0</td><td>二78 / <br></td><td>井塘020111</td><td>師資培二師資培三</td><td>必/Required</td><td>中文/<br>Mandarin</td><td></td><td>否/No</td><td><a href=\"http://newdoc.nccu.edu.tw/teaschm/1081/schmPrv.jsp-yy=108&amp;smt=1&amp;num=109034&amp;gop=00&amp;s=1.html\" target=\"_blink\"><img src=\"teach_agenda.gif\" border=\"0\"></a></td><td><font color=\"#A80000\">＠異動資訊Information of alteration:N/A</font><br>＠備註Note:與教育系102117001合開</td></tr><tr><td>&nbsp;</td><td>205061001</td><td><a href=\"http://newdoc.nccu.edu.tw/teaschm/1081/set00.jsp-yy=108&amp;smt=1&amp;num=205061&amp;gop=00&amp;s=1&amp;willtpe=0.htm\" target=\"_blink\">經濟數學（一）Mathematics for Economics (I)</a></td><td><a href=\"http://newdoc.nccu.edu.tw/teaschm/teaexp/teaExp.jsp-tnum=102471.htm\" target=\"_blink\">林忠正</a></td><td>3.0</td><td>四234 / <br></td><td>綜合270410</td><td>財政三甲財政三乙財政四甲財政四乙</td><td>必/Required</td><td>中文/<br>Mandarin</td><td></td><td>否/No</td><td><a href=\"http://newdoc.nccu.edu.tw/teaschm/1081/schmPrv.jsp-yy=108&amp;smt=1&amp;num=205061&amp;gop=00&amp;s=1.html\" target=\"_blink\"><img src=\"teach_agenda.gif\" border=\"0\"></a></td><td><font color=\"#A80000\">＠異動資訊Information of alteration:N/A</font><br>＠備註Note:公共經濟組必修</td></tr><tr><td>&nbsp;</td><td>308043001</td><td><a href=\"http://newdoc.nccu.edu.tw/teaschm/1081/set00.jsp-yy=108&amp;smt=1&amp;num=308043&amp;gop=00&amp;s=1&amp;willtpe=0.htm\" target=\"_blink\">精算數學Actuarial Mathematics</a></td><td><a href=\"http://newdoc.nccu.edu.tw/teaschm/teaexp/teaExp.jsp-tnum=308003.htm\" target=\"_blink\">張士傑</a></td><td>3.0</td><td>四234 / <br></td><td>商館260205</td><td>風管三</td><td>必/Required</td><td>中文/<br>Mandarin</td><td></td><td>否/No</td><td><a href=\"http://newdoc.nccu.edu.tw/teaschm/1081/schmPrv.jsp-yy=108&amp;smt=1&amp;num=308043&amp;gop=00&amp;s=1.html\" target=\"_blink\"><img src=\"teach_agenda.gif\" border=\"0\"></a></td><td><font color=\"#A80000\">＠異動資訊Information of alteration:N/A</font><br>＠備註Note:N/A</td></tr><tr><td>&nbsp;</td><td>351754001</td><td><a href=\"http://newdoc.nccu.edu.tw/teaschm/1081/set00.jsp-yy=108&amp;smt=1&amp;num=351754&amp;gop=00&amp;s=1&amp;willtpe=0.htm\" target=\"_blink\">財務工程數學Mathematics for Financial Engineering</a></td><td><a href=\"http://newdoc.nccu.edu.tw/teaschm/teaexp/teaExp.jsp-tnum=123944.htm\" target=\"_blink\">胡聯國</a></td><td>3.0</td><td>二234 / <br></td><td>商院261042</td><td>國貿碩一國貿博一國貿碩二國貿博二</td><td>選/Elective</td><td>中文/<br>Mandarin</td><td></td><td>否/No</td><td><a href=\"http://newdoc.nccu.edu.tw/teaschm/1081/schmPrv.jsp-yy=108&amp;smt=1&amp;num=351754&amp;gop=00&amp;s=1.html\" target=\"_blink\"><img src=\"teach_agenda.gif\" border=\"0\"></a></td><td><font color=\"#A80000\">＠異動資訊Information of alteration:N/A</font><br>＠備註Note:碩博合開</td></tr><tr><td>&nbsp;</td><td>352050001</td><td><a href=\"http://newdoc.nccu.edu.tw/teaschm/1081/set00.jsp-yy=108&amp;smt=1&amp;num=352050&amp;gop=00&amp;s=1&amp;willtpe=0.htm\" target=\"_blink\">財務數學（一）Quantitative Methods in Finance (I)</a></td><td><a href=\"http://newdoc.nccu.edu.tw/teaschm/teaexp/teaExp.jsp-tnum=302012.htm\" target=\"_blink\">廖四郎</a></td><td>3.0</td><td>三567 / <br></td><td>商館260311</td><td>金融碩一金融博一</td><td>必/Required</td><td>中文/<br>Mandarin</td><td></td><td>否/No</td><td><a href=\"http://newdoc.nccu.edu.tw/teaschm/1081/schmPrv.jsp-yy=108&amp;smt=1&amp;num=352050&amp;gop=00&amp;s=1.html\" target=\"_blink\"><img src=\"teach_agenda.gif\" border=\"0\"></a></td><td><font color=\"#A80000\">＠異動資訊Information of alteration:N/A</font><br>＠備註Note:碩士班財務工程與金融科技組必修，請該組同學自行選課。博士班選修。</td></tr><tr><td>&nbsp;</td><td>358022001</td><td><a href=\"http://newdoc.nccu.edu.tw/teaschm/1081/set00.jsp-yy=108&amp;smt=1&amp;num=358022&amp;gop=00&amp;s=1&amp;willtpe=0.htm\" target=\"_blink\">壽險數學Life Contingencies</a></td><td><a href=\"http://newdoc.nccu.edu.tw/teaschm/teaexp/teaExp.jsp-tnum=101801.htm\" target=\"_blink\">黃泓智</a></td><td>3.0</td><td>二234 / <br></td><td>商館260308</td><td>風管碩一風管碩二</td><td>必/Required</td><td>中文/<br>Mandarin</td><td></td><td>否/No</td><td><a href=\"http://newdoc.nccu.edu.tw/teaschm/1081/schmPrv.jsp-yy=108&amp;smt=1&amp;num=358022&amp;gop=00&amp;s=1.html\" target=\"_blink\"><img src=\"teach_agenda.gif\" border=\"0\"></a></td><td><font color=\"#A80000\">＠異動資訊Information of alteration:N/A</font><br>＠備註Note:N/A</td></tr><tr><td>&nbsp;</td><td>701010001</td><td><a href=\"http://newdoc.nccu.edu.tw/teaschm/1081/set00.jsp-yy=108&amp;smt=1&amp;num=701010&amp;gop=00&amp;s=1&amp;willtpe=0.htm\" target=\"_blink\">代數學Algebra</a></td><td><a href=\"http://newdoc.nccu.edu.tw/teaschm/teaexp/teaExp.jsp-tnum=701013.htm\" target=\"_blink\">張宜武</a></td><td>3.0</td><td>三34五3 / <br></td><td>大智190204</td><td>應數三</td><td>必/Required</td><td>中文/<br>Mandarin</td><td></td><td>否/No</td><td><a href=\"http://newdoc.nccu.edu.tw/teaschm/1081/schmPrv.jsp-yy=108&amp;smt=1&amp;num=701010&amp;gop=00&amp;s=1.html\" target=\"_blink\"><img src=\"teach_agenda.gif\" border=\"0\"></a></td><td><font color=\"#A80000\">＠異動資訊Information of alteration:N/A</font><br>＠備註Note:五4為實習課。</td></tr><tr><td>&nbsp;</td><td>701025001</td><td><a href=\"http://newdoc.nccu.edu.tw/teaschm/1081/set00.jsp-yy=108&amp;smt=1&amp;num=701025&amp;gop=00&amp;s=1&amp;willtpe=0.htm\" target=\"_blink\">數學導論Introduction to Mathematics</a></td><td><a href=\"http://newdoc.nccu.edu.tw/teaschm/teaexp/teaExp.jsp-tnum=701013.htm\" target=\"_blink\">張宜武</a></td><td>3.0</td><td>二12四2 / <br></td><td>志希070221</td><td>應數一</td><td>必/Required</td><td>中文/<br>Mandarin</td><td></td><td>否/No</td><td><a href=\"http://newdoc.nccu.edu.tw/teaschm/1081/schmPrv.jsp-yy=108&amp;smt=1&amp;num=701025&amp;gop=00&amp;s=1.html\" target=\"_blink\"><img src=\"teach_agenda.gif\" border=\"0\"></a></td><td><font color=\"#A80000\">＠異動資訊Information of alteration:N/A</font><br>＠備註Note:四1為實習課</td></tr><tr><td>&nbsp;</td><td>701772001</td><td><a href=\"http://newdoc.nccu.edu.tw/teaschm/1081/set00.jsp-yy=108&amp;smt=1&amp;num=701772&amp;gop=00&amp;s=1&amp;willtpe=0.htm\" target=\"_blink\">數學軟體應用Applications of mathematics softwares</a></td><td><a href=\"http://newdoc.nccu.edu.tw/teaschm/teaexp/teaExp.jsp-tnum=104857.htm\" target=\"_blink\">蔡炎龍</a></td><td>3.0</td><td>三234 / <br></td><td>應數電腦室</td><td>應數一</td><td>選/Elective</td><td>中文/<br>Mandarin</td><td></td><td>否/No</td><td><a href=\"http://newdoc.nccu.edu.tw/teaschm/1081/schmPrv.jsp-yy=108&amp;smt=1&amp;num=701772&amp;gop=00&amp;s=1.html\" target=\"_blink\"><img src=\"teach_agenda.gif\" border=\"0\"></a></td><td><font color=\"#A80000\">＠異動資訊Information of alteration:N/A</font><br>＠備註Note:N/A</td></tr><tr><td>&nbsp;</td><td>703007001</td><td><a href=\"http://newdoc.nccu.edu.tw/teaschm/1081/set00.jsp-yy=108&amp;smt=1&amp;num=703007&amp;gop=00&amp;s=1&amp;willtpe=0.htm\" target=\"_blink\">離散數學Discrete Mathematics</a></td><td><a href=\"http://newdoc.nccu.edu.tw/teaschm/teaexp/teaExp.jsp-tnum=107673.htm\" target=\"_blink\">左瑞麟</a></td><td>3.0</td><td>二567 / <br></td><td>大仁200301</td><td>資科二</td><td>必/Required</td><td>中文/<br>Mandarin</td><td></td><td>否/No</td><td><a href=\"http://newdoc.nccu.edu.tw/teaschm/1081/schmPrv.jsp-yy=108&amp;smt=1&amp;num=703007&amp;gop=00&amp;s=1.html\" target=\"_blink\"><img src=\"teach_agenda.gif\" border=\"0\"></a></td><td><font color=\"#A80000\">＠異動資訊Information of alteration:N/A</font><br>＠備註Note:N/A</td></tr></tbody></table></div>\\n\\t\\t\\t</div>\\n\\t\\t</div>\\n\\n\\t\\t<script>\\n\\t\\t\\t$(\\'#btn-search\\').click(function(){\\n\\n            \\t\\tvar searchField = $(\\'#txt-search\\').val();\\n            \\n\\t\\t\\tif(searchField === \\'\\')  {\\n\\t\\t\\t\\t//$(\\'#filter-records\\').html(\\'\\');\\n\\t\\t\\t\\talert(\"請輸入查詢關鍵字！\");\\n\\t\\t\\t\\t$(\"#txt-search\").focus();\\n\\t\\t\\t\\treturn;\\n\\t\\t\\t}\\n\\n            \\t\\tvar regex = new RegExp(searchField, \"i\");\\n            \\t\\tvar output = \"<table class=\\'table table-hover\\'><thead><tr>\";\\n            \\n           \\t\\toutput += \"<th>&nbsp;</th>\";\\n            \\t\\toutput += \"<th>科目<br>代碼</th>\";\\n            \\t\\toutput += \"<th>科目<br>名稱</th>\";\\n            \\t\\toutput += \"<th width=\\'6%\\'>教師<br>姓名</th>\";\\n            \\t\\toutput += \"<th>學分數</th>\";\\n            \\t\\toutput += \"<th>上課<br>時間</th>\";\\n            \\t\\toutput += \"<th>上課<br>教室</th>\";\\n            \\t\\toutput += \"<th width=\\'6%\\'>開課<br>單位</th>\";\\n            \\t\\toutput += \"<th>必/選<br>修別</th>\";\\n            \\t\\toutput += \"<th>授課<br>語言</th>\";\\n            \\t\\toutput += \"<th width=\\'4%\\'>通識<br>類別</th>\";\\n            \\t\\toutput += \"<th>核心<br>通識</th>\";\\n            \\t\\toutput += \"<th>教學<br>大綱</th>\";\\n            \\t\\toutput += \"<th width=\\'15%\\'>備註/<br>異動</th>\";\\n            \\t\\toutput += \"</tr></thead><tbody>\";\\n            \\n            \\t\\tvar count = 1;\\n\\n\\t\\t\\t$.each(data, function(key, val){\\n\\t\\t\\t\\t//if ((val.all.search(regex) != -1) ) {\\n\\t\\t\\t\\t  if ((val.subnum.search(regex) != -1) || (val.subnam.search(regex) != -1) ||\\n\\t\\t\\t\\t\\t\\t  (val.teanam.search(regex) != -1) || (val.subpoint.search(regex) != -1) ||\\n\\t\\t\\t\\t\\t\\t  (val.subctime.search(regex) != -1) || (val.subetime.search(regex) != -1) || \\n\\t\\t\\t\\t\\t\\t  (val.subclassroom.search(regex) != -1) || (val.subgde.search(regex) != -1) ||\\n\\t\\t\\t\\t\\t\\t  (val.tpe3.search(regex) != -1) || \\n\\t\\t\\t\\t\\t\\t  (val.lmtkindchi.search(regex) != -1) ||\\n\\t\\t\\t\\t\\t\\t  (val.core.search(regex) != -1) || (val.info.search(regex) != -1) || (val.note.search(regex) != -1)\\n\\t\\t\\t\\t\\t) \\n\\t\\t\\t\\t  {\\n\\t\\t\\t\\t\\toutput += \"<tr><td>&nbsp;</td>\";\\n\\t\\t\\t\\t\\toutput += \"<td>\" + val.subnum + \"</td>\";\\n\\t\\t\\t\\t\\toutput += \"<td><a href=\\'http://newdoc.nccu.edu.tw/teaschm/\" + val.y + val.s +\"/set00.jsp-yy=\" + val.y +\"&smt=\" + val.s +\"&num=\" + val.subnum.substring(0,6) +\"&gop=\" + val.subnum.substring(6,8) +\"&s=\" + val.subnum.substring(8,9) +\"&willtpe=\" + val.willtpe +\".htm\\' target=\\'_blink\\'>\" + val.subnam + \"</a></td>\";\\n\\t\\t\\t\\t\\t\\n\\t\\t\\t\\t\\tif (val.teacom == \\'1\\')\\n\\t\\t\\t\\t\\t{ output += \"<td><a href=\\'http://newdoc.nccu.edu.tw/teaschm/\" + val.y + val.s +\"/set99.jsp-yy=\" + val.y +\"&smt=\" + val.s +\"&num=\" + val.subnum.substring(0,6) +\"&gop=\" + val.subnum.substring(6,8) +\"&s=\" + val.subnum.substring(8,9) +\".htm\\' target=\\'_blink\\'>\" + val.teanam + \"</a></td>\"; }\\n\\t\\t\\t\\t\\telse\\n\\t\\t\\t\\t\\t{ output += \"<td><a href=\\'http://newdoc.nccu.edu.tw/teaschm/teaexp/teaExp.jsp-tnum=\"+val.teanum+\".htm\\' target=\\'_blink\\'>\" + val.teanam + \"</a></td>\"; }\\n\\n\\t\\t\\t\\t\\toutput += \"<td>\" + val.subpoint + \"</td>\";\\n\\t\\t\\t\\t\\toutput += \"<td>\" + val.subctime + \" / <br>\" + val.subetime.substring(0, (val.subetime.indexOf(\" \"))) + \"</td>\";\\n\\t\\t\\t\\t\\toutput += \"<td>\" + val.subclassroom + \"</td>\";\\n\\t\\t\\t\\t\\toutput += \"<td>\" + val.subgde + \"</td>\";\\n\\t\\t\\t\\t\\toutput += \"<td>\" + val.tpe3 + \"</td>\";\\n\\t\\t\\t\\t\\toutput += \"<td>\" + val.langtpe.substring(0,(val.langtpe.indexOf(\\'/\\')+1)) +\"<br>\"+ val.langtpe.substring((val.langtpe.indexOf(\\'/\\')+1))+ \"</td>\";\\n\\t\\t\\t\\t\\toutput += \"<td>\" + val.lmtkindchi + \"</td>\";\\n\\t\\t\\t\\t\\toutput += \"<td>\" + val.core + \"</td>\";\\n\\n\\t\\t\\t\\t\\tif (val.schmtpe == \\'1\\')\\n\\t\\t\\t\\t\\t{ output += \"<td><a href=\\'http://newdoc.nccu.edu.tw/teaschm/\" + val.y + val.s +\"/schmPrv.jsp-yy=\" + val.y +\"&smt=\" + val.s +\"&num=\" + val.subnum.substring(0,6) +\"&gop=\" + val.subnum.substring(6,8) +\"&s=\" + val.subnum.substring(8,9) +\".html\\' target=\\'_blink\\'><img src=\\'teach_agenda.gif\\' border=\\'0\\'></a></td>\"; }\\n\\t\\t\\t\\t\\telse\\n\\t\\t\\t\\t\\t{ output += \"<td>&nbsp;</td>\"; }\\n\\t\\t\\t\\t\\t\\n\\t\\t\\t\\t\\toutput += \"<td><font color=\\'#A80000\\'>\" + val.info + \"</font><br>\" + val.note + \"</td>\";\\n\\t\\t\\t\\t\\toutput += \"</tr>\";\\t\\n\\t\\t\\t\\t  \\n\\t\\t\\t\\t\\tcount++;\\n\\t\\t\\t\\t}\\n\\t\\t\\t});\\n\\t\\t\\toutput += \"</tbody></table>\";\\n\\t\\t\\t$(\\'#filter-records\\').html(output);\\n\\t\\t\\t});\\n\\t\\t</script>\\n\\t\\t<script src=\"http://newdoc.nccu.edu.tw/teaschm/script1081.js\"></script>\\n\\t\\n\\n</body></html>'"
      ]
     },
     "execution_count": 142,
     "metadata": {},
     "output_type": "execute_result"
    }
   ],
   "source": [
    "driver.page_source"
   ]
  },
  {
   "cell_type": "code",
   "execution_count": 143,
   "metadata": {
    "collapsed": false
   },
   "outputs": [
    {
     "data": {
      "text/plain": [
       "True"
      ]
     },
     "execution_count": 143,
     "metadata": {},
     "output_type": "execute_result"
    }
   ],
   "source": [
    "driver.save_screenshot(\"test.png\")"
   ]
  },
  {
   "cell_type": "code",
   "execution_count": 144,
   "metadata": {
    "collapsed": false
   },
   "outputs": [],
   "source": [
    "#找出資訊\n",
    "\n",
    "table = driver.find_elements_by_xpath('//*[@id=\"filter-records\"]/table/tbody')"
   ]
  },
  {
   "cell_type": "code",
   "execution_count": 145,
   "metadata": {
    "collapsed": false
   },
   "outputs": [
    {
     "data": {
      "text/plain": [
       "'  043030001 數學、邏輯與人生Mathematics, Logic and Life 吳柏林 3.0 一78E /\\n大勇210202 應數系 群/Partially Required 中文/\\nMandarin 自然通識 是/Yes ＠異動資訊Information of alteration:N/A\\n＠備註Note:N/A\\n  043030011 數學、邏輯與人生Mathematics, Logic and Life 陸行 3.0 四78E /\\n大勇210105 應數系 群/Partially Required 中文/\\nMandarin 自然通識 是/Yes ＠異動資訊Information of alteration:N/A\\n＠備註Note:N/A\\n  050091001 服務學習課程－校園服務與數學諮詢Service-Learning－On Campus Service and Math Tutoring 陳隆奇 0.0 二C /\\n志希070221 應數系 必/Required 中文/\\nMandarin 否/No ＠異動資訊Information of alteration:N/A\\n＠備註Note:第一堂課在志希樓二樓070221教室，請務必出席，要討論工作分配。\\n  102117001 數學領域教材教法Teaching Methods and Materials in Mathematics 洪煌堯 2.0 二78 /\\n井塘020111 教育三教育四 群/Partially Required\\n中文 否/No ＠異動資訊Information of alteration:N/A\\n＠備註Note:與師培合開\\n  109034001 數學領域教材教法Teaching Methods and Materials in Mathematics 洪煌堯 2.0 二78 /\\n井塘020111 師資培二師資培三 必/Required 中文/\\nMandarin 否/No ＠異動資訊Information of alteration:N/A\\n＠備註Note:與教育系102117001合開\\n  205061001 經濟數學（一）Mathematics for Economics (I) 林忠正 3.0 四234 /\\n綜合270410 財政三甲財政三乙財政四甲財政四乙 必/Required 中文/\\nMandarin 否/No ＠異動資訊Information of alteration:N/A\\n＠備註Note:公共經濟組必修\\n  308043001 精算數學Actuarial Mathematics 張士傑 3.0 四234 /\\n商館260205 風管三 必/Required 中文/\\nMandarin 否/No ＠異動資訊Information of alteration:N/A\\n＠備註Note:N/A\\n  351754001 財務工程數學Mathematics for Financial Engineering 胡聯國 3.0 二234 /\\n商院261042 國貿碩一國貿博一國貿碩二國貿博二 選/Elective 中文/\\nMandarin 否/No ＠異動資訊Information of alteration:N/A\\n＠備註Note:碩博合開\\n  352050001 財務數學（一）Quantitative Methods in Finance (I) 廖四郎 3.0 三567 /\\n商館260311 金融碩一金融博一 必/Required 中文/\\nMandarin 否/No ＠異動資訊Information of alteration:N/A\\n＠備註Note:碩士班財務工程與金融科技組必修，請該組同學自行選課。博士班選修。\\n  358022001 壽險數學Life Contingencies 黃泓智 3.0 二234 /\\n商館260308 風管碩一風管碩二 必/Required 中文/\\nMandarin 否/No ＠異動資訊Information of alteration:N/A\\n＠備註Note:N/A\\n  701010001 代數學Algebra 張宜武 3.0 三34五3 /\\n大智190204 應數三 必/Required 中文/\\nMandarin 否/No ＠異動資訊Information of alteration:N/A\\n＠備註Note:五4為實習課。\\n  701025001 數學導論Introduction to Mathematics 張宜武 3.0 二12四2 /\\n志希070221 應數一 必/Required 中文/\\nMandarin 否/No ＠異動資訊Information of alteration:N/A\\n＠備註Note:四1為實習課\\n  701772001 數學軟體應用Applications of mathematics softwares 蔡炎龍 3.0 三234 /\\n應數電腦室 應數一 選/Elective 中文/\\nMandarin 否/No ＠異動資訊Information of alteration:N/A\\n＠備註Note:N/A\\n  703007001 離散數學Discrete Mathematics 左瑞麟 3.0 二567 /\\n大仁200301 資科二 必/Required 中文/\\nMandarin 否/No ＠異動資訊Information of alteration:N/A\\n＠備註Note:N/A'"
      ]
     },
     "execution_count": 145,
     "metadata": {},
     "output_type": "execute_result"
    }
   ],
   "source": [
    "table[0].text"
   ]
  },
  {
   "cell_type": "code",
   "execution_count": 146,
   "metadata": {
    "collapsed": false
   },
   "outputs": [
    {
     "data": {
      "text/plain": [
       "'  043030001 數學、邏輯與人生Mathematics, Logic and Life 吳柏林 3.0 一78E /\\n大勇210202 應數系 群/Partially Required 中文/\\nMandarin 自然通識 是/Yes ＠異動資訊Information of alteration:N/A\\n＠備註Note:N/A'"
      ]
     },
     "execution_count": 146,
     "metadata": {},
     "output_type": "execute_result"
    }
   ],
   "source": [
    "driver.find_elements_by_css_selector(\"#filter-records > table > tbody > tr:nth-child(1)\")[0].text"
   ]
  },
  {
   "cell_type": "code",
   "execution_count": 147,
   "metadata": {
    "collapsed": true
   },
   "outputs": [],
   "source": [
    "#一些小功能\n",
    "\n",
    "driver.execute_script(\"window.scrollTo(0, document.body.scrollHeight);\")"
   ]
  },
  {
   "cell_type": "code",
   "execution_count": 148,
   "metadata": {
    "collapsed": true
   },
   "outputs": [],
   "source": [
    "driver.back()"
   ]
  },
  {
   "cell_type": "code",
   "execution_count": 149,
   "metadata": {
    "collapsed": true
   },
   "outputs": [],
   "source": [
    "driver.forward()"
   ]
  },
  {
   "cell_type": "code",
   "execution_count": 150,
   "metadata": {
    "collapsed": true
   },
   "outputs": [],
   "source": [
    "driver.quit()"
   ]
  },
  {
   "cell_type": "code",
   "execution_count": null,
   "metadata": {
    "collapsed": true
   },
   "outputs": [],
   "source": []
  }
 ],
 "metadata": {
  "kernelspec": {
   "display_name": "Python 3",
   "language": "python",
   "name": "python3"
  },
  "language_info": {
   "codemirror_mode": {
    "name": "ipython",
    "version": 3
   },
   "file_extension": ".py",
   "mimetype": "text/x-python",
   "name": "python",
   "nbconvert_exporter": "python",
   "pygments_lexer": "ipython3",
   "version": "3.6.0"
  }
 },
 "nbformat": 4,
 "nbformat_minor": 2
}
