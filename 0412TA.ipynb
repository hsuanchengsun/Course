{
 "cells": [
  {
   "cell_type": "markdown",
   "metadata": {},
   "source": [
    "# 0412 TA"
   ]
  },
  {
   "cell_type": "code",
   "execution_count": 122,
   "metadata": {
    "collapsed": true
   },
   "outputs": [],
   "source": [
    "%matplotlib inline\n",
    "import numpy as np\n",
    "import matplotlib.pyplot as plt"
   ]
  },
  {
   "cell_type": "markdown",
   "metadata": {},
   "source": [
    "### Time"
   ]
  },
  {
   "cell_type": "code",
   "execution_count": 99,
   "metadata": {
    "collapsed": true
   },
   "outputs": [],
   "source": [
    "from datetime import datetime, timedelta"
   ]
  },
  {
   "cell_type": "code",
   "execution_count": 101,
   "metadata": {
    "collapsed": false
   },
   "outputs": [
    {
     "data": {
      "text/plain": [
       "datetime.datetime(2019, 4, 10, 20, 49, 57, 614439)"
      ]
     },
     "execution_count": 101,
     "metadata": {},
     "output_type": "execute_result"
    }
   ],
   "source": [
    "datetime.now()"
   ]
  },
  {
   "cell_type": "code",
   "execution_count": 102,
   "metadata": {
    "collapsed": false
   },
   "outputs": [
    {
     "data": {
      "text/plain": [
       "datetime.datetime(2019, 4, 10, 12, 50, 1, 969800)"
      ]
     },
     "execution_count": 102,
     "metadata": {},
     "output_type": "execute_result"
    }
   ],
   "source": [
    "datetime.utcnow()"
   ]
  },
  {
   "cell_type": "code",
   "execution_count": 104,
   "metadata": {
    "collapsed": false
   },
   "outputs": [
    {
     "data": {
      "text/plain": [
       "'2019-04-10 20:50:25'"
      ]
     },
     "execution_count": 104,
     "metadata": {},
     "output_type": "execute_result"
    }
   ],
   "source": [
    "datetime.now().strftime(\"%Y-%m-%d %H:%M:%S\")"
   ]
  },
  {
   "cell_type": "code",
   "execution_count": 105,
   "metadata": {
    "collapsed": true
   },
   "outputs": [],
   "source": [
    "today = datetime.today()"
   ]
  },
  {
   "cell_type": "code",
   "execution_count": 112,
   "metadata": {
    "collapsed": false
   },
   "outputs": [
    {
     "data": {
      "text/plain": [
       "datetime.datetime(2019, 4, 10, 20, 50, 46, 317983)"
      ]
     },
     "execution_count": 112,
     "metadata": {},
     "output_type": "execute_result"
    }
   ],
   "source": [
    "today"
   ]
  },
  {
   "cell_type": "code",
   "execution_count": 106,
   "metadata": {
    "collapsed": true
   },
   "outputs": [],
   "source": [
    "yesterday = today -timedelta(days=1)"
   ]
  },
  {
   "cell_type": "code",
   "execution_count": 107,
   "metadata": {
    "collapsed": false
   },
   "outputs": [
    {
     "data": {
      "text/plain": [
       "datetime.datetime(2019, 4, 9, 20, 50, 46, 317983)"
      ]
     },
     "execution_count": 107,
     "metadata": {},
     "output_type": "execute_result"
    }
   ],
   "source": [
    "yesterday"
   ]
  },
  {
   "cell_type": "code",
   "execution_count": 111,
   "metadata": {
    "collapsed": false
   },
   "outputs": [
    {
     "data": {
      "text/plain": [
       "time.struct_time(tm_year=2019, tm_mon=4, tm_mday=10, tm_hour=20, tm_min=50, tm_sec=46, tm_wday=2, tm_yday=100, tm_isdst=-1)"
      ]
     },
     "execution_count": 111,
     "metadata": {},
     "output_type": "execute_result"
    }
   ],
   "source": [
    "today.timetuple()"
   ]
  },
  {
   "cell_type": "code",
   "execution_count": 113,
   "metadata": {
    "collapsed": false
   },
   "outputs": [
    {
     "data": {
      "text/plain": [
       "'2019-04-10 20:50:46'"
      ]
     },
     "execution_count": 113,
     "metadata": {},
     "output_type": "execute_result"
    }
   ],
   "source": [
    "today.strftime(\"%Y-%m-%d %H:%M:%S\")"
   ]
  },
  {
   "cell_type": "code",
   "execution_count": 87,
   "metadata": {
    "collapsed": true
   },
   "outputs": [],
   "source": [
    "import time as tm"
   ]
  },
  {
   "cell_type": "code",
   "execution_count": 88,
   "metadata": {
    "collapsed": false
   },
   "outputs": [
    {
     "data": {
      "text/plain": [
       "'Thu Jan  1 08:00:00 1970'"
      ]
     },
     "execution_count": 88,
     "metadata": {},
     "output_type": "execute_result"
    }
   ],
   "source": [
    "tm.ctime(0)"
   ]
  },
  {
   "cell_type": "code",
   "execution_count": 89,
   "metadata": {
    "collapsed": false
   },
   "outputs": [
    {
     "data": {
      "text/plain": [
       "'Thu Jan  1 10:38:07 1970'"
      ]
     },
     "execution_count": 89,
     "metadata": {},
     "output_type": "execute_result"
    }
   ],
   "source": [
    "tm.ctime(9487)"
   ]
  },
  {
   "cell_type": "code",
   "execution_count": 90,
   "metadata": {
    "collapsed": false
   },
   "outputs": [
    {
     "data": {
      "text/plain": [
       "1554899838.8728719"
      ]
     },
     "execution_count": 90,
     "metadata": {},
     "output_type": "execute_result"
    }
   ],
   "source": [
    "tm.time()"
   ]
  },
  {
   "cell_type": "code",
   "execution_count": 92,
   "metadata": {
    "collapsed": false
   },
   "outputs": [
    {
     "data": {
      "text/plain": [
       "'Wed Apr 10 20:37:18 2019'"
      ]
     },
     "execution_count": 92,
     "metadata": {},
     "output_type": "execute_result"
    }
   ],
   "source": [
    "tm.ctime(1554899838.8728719)"
   ]
  },
  {
   "cell_type": "code",
   "execution_count": 91,
   "metadata": {
    "collapsed": false
   },
   "outputs": [
    {
     "data": {
      "text/plain": [
       "time.struct_time(tm_year=2019, tm_mon=4, tm_mday=10, tm_hour=20, tm_min=37, tm_sec=33, tm_wday=2, tm_yday=100, tm_isdst=0)"
      ]
     },
     "execution_count": 91,
     "metadata": {},
     "output_type": "execute_result"
    }
   ],
   "source": [
    "tm.localtime()"
   ]
  },
  {
   "cell_type": "code",
   "execution_count": 114,
   "metadata": {
    "collapsed": true
   },
   "outputs": [],
   "source": [
    "import calendar"
   ]
  },
  {
   "cell_type": "code",
   "execution_count": 116,
   "metadata": {
    "collapsed": false
   },
   "outputs": [
    {
     "name": "stdout",
     "output_type": "stream",
     "text": [
      "    January 2019\n",
      "Mo Tu We Th Fr Sa Su\n",
      "    1  2  3  4  5  6\n",
      " 7  8  9 10 11 12 13\n",
      "14 15 16 17 18 19 20\n",
      "21 22 23 24 25 26 27\n",
      "28 29 30 31\n",
      "\n"
     ]
    }
   ],
   "source": [
    "print(calendar.month(2019, 1))"
   ]
  },
  {
   "cell_type": "code",
   "execution_count": 120,
   "metadata": {
    "collapsed": false
   },
   "outputs": [
    {
     "data": {
      "text/plain": [
       "False"
      ]
     },
     "execution_count": 120,
     "metadata": {},
     "output_type": "execute_result"
    }
   ],
   "source": [
    "calendar.isleap(10)"
   ]
  },
  {
   "cell_type": "code",
   "execution_count": 121,
   "metadata": {
    "collapsed": false
   },
   "outputs": [
    {
     "data": {
      "text/plain": [
       "1"
      ]
     },
     "execution_count": 121,
     "metadata": {},
     "output_type": "execute_result"
    }
   ],
   "source": [
    "calendar.weekday(2018,8,7)"
   ]
  },
  {
   "cell_type": "markdown",
   "metadata": {},
   "source": [
    "### Boston LinearRegression"
   ]
  },
  {
   "cell_type": "code",
   "execution_count": 123,
   "metadata": {
    "collapsed": true
   },
   "outputs": [],
   "source": [
    "from sklearn.datasets import load_boston\n",
    "from sklearn.linear_model import LinearRegression\n",
    "from sklearn.model_selection import train_test_split\n",
    "from sklearn.metrics import mean_squared_error\n",
    "from sklearn.metrics import r2_score"
   ]
  },
  {
   "cell_type": "code",
   "execution_count": 124,
   "metadata": {
    "collapsed": true
   },
   "outputs": [],
   "source": [
    "boston = load_boston()"
   ]
  },
  {
   "cell_type": "code",
   "execution_count": 130,
   "metadata": {
    "collapsed": false,
    "scrolled": true
   },
   "outputs": [
    {
     "name": "stdout",
     "output_type": "stream",
     "text": [
      "Boston House Prices dataset\n",
      "===========================\n",
      "\n",
      "Notes\n",
      "------\n",
      "Data Set Characteristics:  \n",
      "\n",
      "    :Number of Instances: 506 \n",
      "\n",
      "    :Number of Attributes: 13 numeric/categorical predictive\n",
      "    \n",
      "    :Median Value (attribute 14) is usually the target\n",
      "\n",
      "    :Attribute Information (in order):\n",
      "        - CRIM     per capita crime rate by town\n",
      "        - ZN       proportion of residential land zoned for lots over 25,000 sq.ft.\n",
      "        - INDUS    proportion of non-retail business acres per town\n",
      "        - CHAS     Charles River dummy variable (= 1 if tract bounds river; 0 otherwise)\n",
      "        - NOX      nitric oxides concentration (parts per 10 million)\n",
      "        - RM       average number of rooms per dwelling\n",
      "        - AGE      proportion of owner-occupied units built prior to 1940\n",
      "        - DIS      weighted distances to five Boston employment centres\n",
      "        - RAD      index of accessibility to radial highways\n",
      "        - TAX      full-value property-tax rate per $10,000\n",
      "        - PTRATIO  pupil-teacher ratio by town\n",
      "        - B        1000(Bk - 0.63)^2 where Bk is the proportion of blacks by town\n",
      "        - LSTAT    % lower status of the population\n",
      "        - MEDV     Median value of owner-occupied homes in $1000's\n",
      "\n",
      "    :Missing Attribute Values: None\n",
      "\n",
      "    :Creator: Harrison, D. and Rubinfeld, D.L.\n",
      "\n",
      "This is a copy of UCI ML housing dataset.\n",
      "http://archive.ics.uci.edu/ml/datasets/Housing\n",
      "\n",
      "\n",
      "This dataset was taken from the StatLib library which is maintained at Carnegie Mellon University.\n",
      "\n",
      "The Boston house-price data of Harrison, D. and Rubinfeld, D.L. 'Hedonic\n",
      "prices and the demand for clean air', J. Environ. Economics & Management,\n",
      "vol.5, 81-102, 1978.   Used in Belsley, Kuh & Welsch, 'Regression diagnostics\n",
      "...', Wiley, 1980.   N.B. Various transformations are used in the table on\n",
      "pages 244-261 of the latter.\n",
      "\n",
      "The Boston house-price data has been used in many machine learning papers that address regression\n",
      "problems.   \n",
      "     \n",
      "**References**\n",
      "\n",
      "   - Belsley, Kuh & Welsch, 'Regression diagnostics: Identifying Influential Data and Sources of Collinearity', Wiley, 1980. 244-261.\n",
      "   - Quinlan,R. (1993). Combining Instance-Based and Model-Based Learning. In Proceedings on the Tenth International Conference of Machine Learning, 236-243, University of Massachusetts, Amherst. Morgan Kaufmann.\n",
      "   - many more! (see http://archive.ics.uci.edu/ml/datasets/Housing)\n",
      "\n"
     ]
    }
   ],
   "source": [
    "print(boston.DESCR)"
   ]
  },
  {
   "cell_type": "code",
   "execution_count": 125,
   "metadata": {
    "collapsed": false
   },
   "outputs": [
    {
     "data": {
      "text/plain": [
       "array(['CRIM', 'ZN', 'INDUS', 'CHAS', 'NOX', 'RM', 'AGE', 'DIS', 'RAD',\n",
       "       'TAX', 'PTRATIO', 'B', 'LSTAT'], dtype='<U7')"
      ]
     },
     "execution_count": 125,
     "metadata": {},
     "output_type": "execute_result"
    }
   ],
   "source": [
    "boston.feature_names"
   ]
  },
  {
   "cell_type": "code",
   "execution_count": 175,
   "metadata": {
    "collapsed": true
   },
   "outputs": [],
   "source": [
    "x_data = boston.data\n",
    "y_data = boston.target"
   ]
  },
  {
   "cell_type": "code",
   "execution_count": 176,
   "metadata": {
    "collapsed": false
   },
   "outputs": [
    {
     "data": {
      "text/plain": [
       "506"
      ]
     },
     "execution_count": 176,
     "metadata": {},
     "output_type": "execute_result"
    }
   ],
   "source": [
    "len(x_data)"
   ]
  },
  {
   "cell_type": "code",
   "execution_count": 177,
   "metadata": {
    "collapsed": false
   },
   "outputs": [
    {
     "data": {
      "text/plain": [
       "506"
      ]
     },
     "execution_count": 177,
     "metadata": {},
     "output_type": "execute_result"
    }
   ],
   "source": [
    "len(y_data)"
   ]
  },
  {
   "cell_type": "code",
   "execution_count": 178,
   "metadata": {
    "collapsed": false,
    "scrolled": true
   },
   "outputs": [
    {
     "data": {
      "text/plain": [
       "array([[6.3200e-03, 1.8000e+01, 2.3100e+00, ..., 1.5300e+01, 3.9690e+02,\n",
       "        4.9800e+00],\n",
       "       [2.7310e-02, 0.0000e+00, 7.0700e+00, ..., 1.7800e+01, 3.9690e+02,\n",
       "        9.1400e+00],\n",
       "       [2.7290e-02, 0.0000e+00, 7.0700e+00, ..., 1.7800e+01, 3.9283e+02,\n",
       "        4.0300e+00],\n",
       "       ...,\n",
       "       [6.0760e-02, 0.0000e+00, 1.1930e+01, ..., 2.1000e+01, 3.9690e+02,\n",
       "        5.6400e+00],\n",
       "       [1.0959e-01, 0.0000e+00, 1.1930e+01, ..., 2.1000e+01, 3.9345e+02,\n",
       "        6.4800e+00],\n",
       "       [4.7410e-02, 0.0000e+00, 1.1930e+01, ..., 2.1000e+01, 3.9690e+02,\n",
       "        7.8800e+00]])"
      ]
     },
     "execution_count": 178,
     "metadata": {},
     "output_type": "execute_result"
    }
   ],
   "source": [
    "x_data"
   ]
  },
  {
   "cell_type": "code",
   "execution_count": 179,
   "metadata": {
    "collapsed": true
   },
   "outputs": [],
   "source": [
    "# 分離資料\n",
    "x_train, x_test, y_train, y_test = train_test_split(x_data, y_data,\n",
    "                                                   test_size=0.3,\n",
    "                                                   random_state=777)"
   ]
  },
  {
   "cell_type": "code",
   "execution_count": 181,
   "metadata": {
    "collapsed": true
   },
   "outputs": [],
   "source": [
    "# 開線性回歸\n",
    "regr = LinearRegression()"
   ]
  },
  {
   "cell_type": "code",
   "execution_count": 182,
   "metadata": {
    "collapsed": false
   },
   "outputs": [
    {
     "data": {
      "text/plain": [
       "LinearRegression(copy_X=True, fit_intercept=True, n_jobs=1, normalize=False)"
      ]
     },
     "execution_count": 182,
     "metadata": {},
     "output_type": "execute_result"
    }
   ],
   "source": [
    "# 訓練\n",
    "regr.fit(x_train, y_train)"
   ]
  },
  {
   "cell_type": "code",
   "execution_count": 183,
   "metadata": {
    "collapsed": false
   },
   "outputs": [
    {
     "data": {
      "text/plain": [
       "46.15127899794107"
      ]
     },
     "execution_count": 183,
     "metadata": {},
     "output_type": "execute_result"
    }
   ],
   "source": [
    "regr.intercept_"
   ]
  },
  {
   "cell_type": "code",
   "execution_count": 184,
   "metadata": {
    "collapsed": false
   },
   "outputs": [
    {
     "data": {
      "text/plain": [
       "array([-9.21940744e-02,  4.16768622e-02, -1.09701875e-02,  3.11382843e+00,\n",
       "       -2.45527863e+01,  3.24766459e+00,  1.48802589e-03, -1.70358348e+00,\n",
       "        3.44638810e-01, -1.25382079e-02, -9.61963564e-01,  6.72603905e-03,\n",
       "       -5.75869982e-01])"
      ]
     },
     "execution_count": 184,
     "metadata": {},
     "output_type": "execute_result"
    }
   ],
   "source": [
    "regr.coef_"
   ]
  },
  {
   "cell_type": "code",
   "execution_count": 185,
   "metadata": {
    "collapsed": true
   },
   "outputs": [],
   "source": [
    "co = list(zip(boston.feature_names, regr.coef_))"
   ]
  },
  {
   "cell_type": "code",
   "execution_count": 186,
   "metadata": {
    "collapsed": false
   },
   "outputs": [
    {
     "data": {
      "text/plain": [
       "[('CRIM', -0.09219407437952477),\n",
       " ('ZN', 0.041676862225743364),\n",
       " ('INDUS', -0.01097018745736034),\n",
       " ('CHAS', 3.1138284253417448),\n",
       " ('NOX', -24.552786340309808),\n",
       " ('RM', 3.2476645901835246),\n",
       " ('AGE', 0.0014880258928843598),\n",
       " ('DIS', -1.703583476545029),\n",
       " ('RAD', 0.3446388099466875),\n",
       " ('TAX', -0.012538207934330477),\n",
       " ('PTRATIO', -0.9619635637047779),\n",
       " ('B', 0.00672603904749274),\n",
       " ('LSTAT', -0.5758699822604085)]"
      ]
     },
     "execution_count": 186,
     "metadata": {},
     "output_type": "execute_result"
    }
   ],
   "source": [
    "co"
   ]
  },
  {
   "cell_type": "code",
   "execution_count": 187,
   "metadata": {
    "collapsed": true
   },
   "outputs": [],
   "source": [
    "y_predict = regr.predict(x_test)"
   ]
  },
  {
   "cell_type": "code",
   "execution_count": 188,
   "metadata": {
    "collapsed": false
   },
   "outputs": [
    {
     "data": {
      "text/plain": [
       "50.0"
      ]
     },
     "execution_count": 188,
     "metadata": {},
     "output_type": "execute_result"
    }
   ],
   "source": [
    "y_test.max()"
   ]
  },
  {
   "cell_type": "code",
   "execution_count": 189,
   "metadata": {
    "collapsed": false
   },
   "outputs": [
    {
     "data": {
      "text/plain": [
       "41.90832360815788"
      ]
     },
     "execution_count": 189,
     "metadata": {},
     "output_type": "execute_result"
    }
   ],
   "source": [
    "y_predict.max()"
   ]
  },
  {
   "cell_type": "code",
   "execution_count": 190,
   "metadata": {
    "collapsed": false
   },
   "outputs": [
    {
     "data": {
      "text/plain": [
       "Text(0.5, 1.0, 'Result')"
      ]
     },
     "execution_count": 190,
     "metadata": {},
     "output_type": "execute_result"
    },
    {
     "data": {
      "image/png": "[encoded data removed]",
      "text/plain": [
       "<Figure size 432x288 with 1 Axes>"
      ]
     },
     "metadata": {},
     "output_type": "display_data"
    }
   ],
   "source": [
    "plt.scatter(y_test, y_predict)\n",
    "plt.plot([0,50],[0,50],'r')\n",
    "plt.xlabel('True Price')\n",
    "plt.ylabel('Predicted Price')\n",
    "plt.title(\"Result\")"
   ]
  },
  {
   "cell_type": "code",
   "execution_count": 191,
   "metadata": {
    "collapsed": false
   },
   "outputs": [
    {
     "data": {
      "text/plain": [
       "25.35725601121424"
      ]
     },
     "execution_count": 191,
     "metadata": {},
     "output_type": "execute_result"
    }
   ],
   "source": [
    "mean_squared_error(y_test, y_predict)"
   ]
  },
  {
   "cell_type": "code",
   "execution_count": 192,
   "metadata": {
    "collapsed": false
   },
   "outputs": [
    {
     "data": {
      "text/plain": [
       "0.6999392625722692"
      ]
     },
     "execution_count": 192,
     "metadata": {},
     "output_type": "execute_result"
    }
   ],
   "source": [
    "r2_score(y_test, y_predict) "
   ]
  },
  {
   "cell_type": "markdown",
   "metadata": {},
   "source": [
    "### statsmodels"
   ]
  },
  {
   "cell_type": "code",
   "execution_count": 193,
   "metadata": {
    "collapsed": true
   },
   "outputs": [],
   "source": [
    "import statsmodels.api as sm"
   ]
  },
  {
   "cell_type": "code",
   "execution_count": 194,
   "metadata": {
    "collapsed": true
   },
   "outputs": [],
   "source": [
    "model = sm.OLS(y_train, x_train)"
   ]
  },
  {
   "cell_type": "code",
   "execution_count": 195,
   "metadata": {
    "collapsed": true
   },
   "outputs": [],
   "source": [
    "result = model.fit()"
   ]
  },
  {
   "cell_type": "code",
   "execution_count": 196,
   "metadata": {
    "collapsed": false
   },
   "outputs": [
    {
     "name": "stdout",
     "output_type": "stream",
     "text": [
      "                            OLS Regression Results                            \n",
      "==============================================================================\n",
      "Dep. Variable:                      y   R-squared:                       0.959\n",
      "Model:                            OLS   Adj. R-squared:                  0.957\n",
      "Method:                 Least Squares   F-statistic:                     612.6\n",
      "Date:                Wed, 10 Apr 2019   Prob (F-statistic):          2.22e-227\n",
      "Time:                        22:18:32   Log-Likelihood:                -1068.2\n",
      "No. Observations:                 354   AIC:                             2162.\n",
      "Df Residuals:                     341   BIC:                             2213.\n",
      "Df Model:                          13                                         \n",
      "Covariance Type:            nonrobust                                         \n",
      "==============================================================================\n",
      "                 coef    std err          t      P>|t|      [0.025      0.975]\n",
      "------------------------------------------------------------------------------\n",
      "x1            -0.0840      0.038     -2.199      0.029      -0.159      -0.009\n",
      "x2             0.0508      0.018      2.899      0.004       0.016       0.085\n",
      "x3            -0.0414      0.075     -0.551      0.582      -0.189       0.106\n",
      "x4             3.1197      1.048      2.976      0.003       1.058       5.182\n",
      "x5            -4.4615      4.442     -1.004      0.316     -13.199       4.276\n",
      "x6             5.7768      0.368     15.702      0.000       5.053       6.500\n",
      "x7            -0.0089      0.017     -0.534      0.594      -0.042       0.024\n",
      "x8            -1.0773      0.244     -4.416      0.000      -1.557      -0.597\n",
      "x9             0.1782      0.078      2.281      0.023       0.025       0.332\n",
      "x10           -0.0095      0.005     -2.095      0.037      -0.018      -0.001\n",
      "x11           -0.2568      0.140     -1.838      0.067      -0.532       0.018\n",
      "x12            0.0158      0.004      4.447      0.000       0.009       0.023\n",
      "x13           -0.4448      0.061     -7.264      0.000      -0.565      -0.324\n",
      "==============================================================================\n",
      "Omnibus:                      137.745   Durbin-Watson:                   1.976\n",
      "Prob(Omnibus):                  0.000   Jarque-Bera (JB):              881.490\n",
      "Skew:                           1.487   Prob(JB):                    3.86e-192\n",
      "Kurtosis:                      10.136   Cond. No.                     9.41e+03\n",
      "==============================================================================\n",
      "\n",
      "Warnings:\n",
      "[1] Standard Errors assume that the covariance matrix of the errors is correctly specified.\n",
      "[2] The condition number is large, 9.41e+03. This might indicate that there are\n",
      "strong multicollinearity or other numerical problems.\n"
     ]
    }
   ],
   "source": [
    "print(result.summary())"
   ]
  },
  {
   "cell_type": "code",
   "execution_count": 198,
   "metadata": {
    "collapsed": false
   },
   "outputs": [],
   "source": [
    "y_pre = result.predict(x_test)"
   ]
  },
  {
   "cell_type": "code",
   "execution_count": 199,
   "metadata": {
    "collapsed": false
   },
   "outputs": [
    {
     "data": {
      "text/plain": [
       "Text(0.5, 1.0, 'Result')"
      ]
     },
     "execution_count": 199,
     "metadata": {},
     "output_type": "execute_result"
    },
    {
     "data": {
      "image/png": "[encoded data removed]",
      "text/plain": [
       "<Figure size 432x288 with 1 Axes>"
      ]
     },
     "metadata": {},
     "output_type": "display_data"
    }
   ],
   "source": [
    "plt.scatter(y_test, y_pre)\n",
    "plt.plot([0,50],[0,50],'r')\n",
    "plt.xlabel('True Price')\n",
    "plt.ylabel('Predicted Price')\n",
    "plt.title(\"Result\")"
   ]
  },
  {
   "cell_type": "code",
   "execution_count": 216,
   "metadata": {
    "collapsed": true
   },
   "outputs": [],
   "source": [
    "df = pd.DataFrame(x_data, columns = boston.feature_names)"
   ]
  },
  {
   "cell_type": "code",
   "execution_count": 217,
   "metadata": {
    "collapsed": false
   },
   "outputs": [
    {
     "data": {
      "text/html": [
       "<div>\n",
       "<style scoped>\n",
       "    .dataframe tbody tr th:only-of-type {\n",
       "        vertical-align: middle;\n",
       "    }\n",
       "\n",
       "    .dataframe tbody tr th {\n",
       "        vertical-align: top;\n",
       "    }\n",
       "\n",
       "    .dataframe thead th {\n",
       "        text-align: right;\n",
       "    }\n",
       "</style>\n",
       "<table border=\"1\" class=\"dataframe\">\n",
       "  <thead>\n",
       "    <tr style=\"text-align: right;\">\n",
       "      <th></th>\n",
       "      <th>CRIM</th>\n",
       "      <th>ZN</th>\n",
       "      <th>INDUS</th>\n",
       "      <th>CHAS</th>\n",
       "      <th>NOX</th>\n",
       "      <th>RM</th>\n",
       "      <th>AGE</th>\n",
       "      <th>DIS</th>\n",
       "      <th>RAD</th>\n",
       "      <th>TAX</th>\n",
       "      <th>PTRATIO</th>\n",
       "      <th>B</th>\n",
       "      <th>LSTAT</th>\n",
       "    </tr>\n",
       "  </thead>\n",
       "  <tbody>\n",
       "    <tr>\n",
       "      <th>0</th>\n",
       "      <td>0.00632</td>\n",
       "      <td>18.0</td>\n",
       "      <td>2.31</td>\n",
       "      <td>0.0</td>\n",
       "      <td>0.538</td>\n",
       "      <td>6.575</td>\n",
       "      <td>65.2</td>\n",
       "      <td>4.0900</td>\n",
       "      <td>1.0</td>\n",
       "      <td>296.0</td>\n",
       "      <td>15.3</td>\n",
       "      <td>396.90</td>\n",
       "      <td>4.98</td>\n",
       "    </tr>\n",
       "    <tr>\n",
       "      <th>1</th>\n",
       "      <td>0.02731</td>\n",
       "      <td>0.0</td>\n",
       "      <td>7.07</td>\n",
       "      <td>0.0</td>\n",
       "      <td>0.469</td>\n",
       "      <td>6.421</td>\n",
       "      <td>78.9</td>\n",
       "      <td>4.9671</td>\n",
       "      <td>2.0</td>\n",
       "      <td>242.0</td>\n",
       "      <td>17.8</td>\n",
       "      <td>396.90</td>\n",
       "      <td>9.14</td>\n",
       "    </tr>\n",
       "    <tr>\n",
       "      <th>2</th>\n",
       "      <td>0.02729</td>\n",
       "      <td>0.0</td>\n",
       "      <td>7.07</td>\n",
       "      <td>0.0</td>\n",
       "      <td>0.469</td>\n",
       "      <td>7.185</td>\n",
       "      <td>61.1</td>\n",
       "      <td>4.9671</td>\n",
       "      <td>2.0</td>\n",
       "      <td>242.0</td>\n",
       "      <td>17.8</td>\n",
       "      <td>392.83</td>\n",
       "      <td>4.03</td>\n",
       "    </tr>\n",
       "    <tr>\n",
       "      <th>3</th>\n",
       "      <td>0.03237</td>\n",
       "      <td>0.0</td>\n",
       "      <td>2.18</td>\n",
       "      <td>0.0</td>\n",
       "      <td>0.458</td>\n",
       "      <td>6.998</td>\n",
       "      <td>45.8</td>\n",
       "      <td>6.0622</td>\n",
       "      <td>3.0</td>\n",
       "      <td>222.0</td>\n",
       "      <td>18.7</td>\n",
       "      <td>394.63</td>\n",
       "      <td>2.94</td>\n",
       "    </tr>\n",
       "    <tr>\n",
       "      <th>4</th>\n",
       "      <td>0.06905</td>\n",
       "      <td>0.0</td>\n",
       "      <td>2.18</td>\n",
       "      <td>0.0</td>\n",
       "      <td>0.458</td>\n",
       "      <td>7.147</td>\n",
       "      <td>54.2</td>\n",
       "      <td>6.0622</td>\n",
       "      <td>3.0</td>\n",
       "      <td>222.0</td>\n",
       "      <td>18.7</td>\n",
       "      <td>396.90</td>\n",
       "      <td>5.33</td>\n",
       "    </tr>\n",
       "  </tbody>\n",
       "</table>\n",
       "</div>"
      ],
      "text/plain": [
       "      CRIM    ZN  INDUS  CHAS    NOX     RM   AGE     DIS  RAD    TAX  \\\n",
       "0  0.00632  18.0   2.31   0.0  0.538  6.575  65.2  4.0900  1.0  296.0   \n",
       "1  0.02731   0.0   7.07   0.0  0.469  6.421  78.9  4.9671  2.0  242.0   \n",
       "2  0.02729   0.0   7.07   0.0  0.469  7.185  61.1  4.9671  2.0  242.0   \n",
       "3  0.03237   0.0   2.18   0.0  0.458  6.998  45.8  6.0622  3.0  222.0   \n",
       "4  0.06905   0.0   2.18   0.0  0.458  7.147  54.2  6.0622  3.0  222.0   \n",
       "\n",
       "   PTRATIO       B  LSTAT  \n",
       "0     15.3  396.90   4.98  \n",
       "1     17.8  396.90   9.14  \n",
       "2     17.8  392.83   4.03  \n",
       "3     18.7  394.63   2.94  \n",
       "4     18.7  396.90   5.33  "
      ]
     },
     "execution_count": 217,
     "metadata": {},
     "output_type": "execute_result"
    }
   ],
   "source": [
    "df.head()"
   ]
  },
  {
   "cell_type": "code",
   "execution_count": 218,
   "metadata": {
    "collapsed": true
   },
   "outputs": [],
   "source": [
    "df[\"Y\"] = boston.target"
   ]
  },
  {
   "cell_type": "code",
   "execution_count": 219,
   "metadata": {
    "collapsed": false
   },
   "outputs": [
    {
     "data": {
      "text/html": [
       "<div>\n",
       "<style scoped>\n",
       "    .dataframe tbody tr th:only-of-type {\n",
       "        vertical-align: middle;\n",
       "    }\n",
       "\n",
       "    .dataframe tbody tr th {\n",
       "        vertical-align: top;\n",
       "    }\n",
       "\n",
       "    .dataframe thead th {\n",
       "        text-align: right;\n",
       "    }\n",
       "</style>\n",
       "<table border=\"1\" class=\"dataframe\">\n",
       "  <thead>\n",
       "    <tr style=\"text-align: right;\">\n",
       "      <th></th>\n",
       "      <th>CRIM</th>\n",
       "      <th>ZN</th>\n",
       "      <th>INDUS</th>\n",
       "      <th>CHAS</th>\n",
       "      <th>NOX</th>\n",
       "      <th>RM</th>\n",
       "      <th>AGE</th>\n",
       "      <th>DIS</th>\n",
       "      <th>RAD</th>\n",
       "      <th>TAX</th>\n",
       "      <th>PTRATIO</th>\n",
       "      <th>B</th>\n",
       "      <th>LSTAT</th>\n",
       "      <th>Y</th>\n",
       "    </tr>\n",
       "  </thead>\n",
       "  <tbody>\n",
       "    <tr>\n",
       "      <th>0</th>\n",
       "      <td>0.00632</td>\n",
       "      <td>18.0</td>\n",
       "      <td>2.31</td>\n",
       "      <td>0.0</td>\n",
       "      <td>0.538</td>\n",
       "      <td>6.575</td>\n",
       "      <td>65.2</td>\n",
       "      <td>4.0900</td>\n",
       "      <td>1.0</td>\n",
       "      <td>296.0</td>\n",
       "      <td>15.3</td>\n",
       "      <td>396.90</td>\n",
       "      <td>4.98</td>\n",
       "      <td>24.0</td>\n",
       "    </tr>\n",
       "    <tr>\n",
       "      <th>1</th>\n",
       "      <td>0.02731</td>\n",
       "      <td>0.0</td>\n",
       "      <td>7.07</td>\n",
       "      <td>0.0</td>\n",
       "      <td>0.469</td>\n",
       "      <td>6.421</td>\n",
       "      <td>78.9</td>\n",
       "      <td>4.9671</td>\n",
       "      <td>2.0</td>\n",
       "      <td>242.0</td>\n",
       "      <td>17.8</td>\n",
       "      <td>396.90</td>\n",
       "      <td>9.14</td>\n",
       "      <td>21.6</td>\n",
       "    </tr>\n",
       "    <tr>\n",
       "      <th>2</th>\n",
       "      <td>0.02729</td>\n",
       "      <td>0.0</td>\n",
       "      <td>7.07</td>\n",
       "      <td>0.0</td>\n",
       "      <td>0.469</td>\n",
       "      <td>7.185</td>\n",
       "      <td>61.1</td>\n",
       "      <td>4.9671</td>\n",
       "      <td>2.0</td>\n",
       "      <td>242.0</td>\n",
       "      <td>17.8</td>\n",
       "      <td>392.83</td>\n",
       "      <td>4.03</td>\n",
       "      <td>34.7</td>\n",
       "    </tr>\n",
       "    <tr>\n",
       "      <th>3</th>\n",
       "      <td>0.03237</td>\n",
       "      <td>0.0</td>\n",
       "      <td>2.18</td>\n",
       "      <td>0.0</td>\n",
       "      <td>0.458</td>\n",
       "      <td>6.998</td>\n",
       "      <td>45.8</td>\n",
       "      <td>6.0622</td>\n",
       "      <td>3.0</td>\n",
       "      <td>222.0</td>\n",
       "      <td>18.7</td>\n",
       "      <td>394.63</td>\n",
       "      <td>2.94</td>\n",
       "      <td>33.4</td>\n",
       "    </tr>\n",
       "    <tr>\n",
       "      <th>4</th>\n",
       "      <td>0.06905</td>\n",
       "      <td>0.0</td>\n",
       "      <td>2.18</td>\n",
       "      <td>0.0</td>\n",
       "      <td>0.458</td>\n",
       "      <td>7.147</td>\n",
       "      <td>54.2</td>\n",
       "      <td>6.0622</td>\n",
       "      <td>3.0</td>\n",
       "      <td>222.0</td>\n",
       "      <td>18.7</td>\n",
       "      <td>396.90</td>\n",
       "      <td>5.33</td>\n",
       "      <td>36.2</td>\n",
       "    </tr>\n",
       "  </tbody>\n",
       "</table>\n",
       "</div>"
      ],
      "text/plain": [
       "      CRIM    ZN  INDUS  CHAS    NOX     RM   AGE     DIS  RAD    TAX  \\\n",
       "0  0.00632  18.0   2.31   0.0  0.538  6.575  65.2  4.0900  1.0  296.0   \n",
       "1  0.02731   0.0   7.07   0.0  0.469  6.421  78.9  4.9671  2.0  242.0   \n",
       "2  0.02729   0.0   7.07   0.0  0.469  7.185  61.1  4.9671  2.0  242.0   \n",
       "3  0.03237   0.0   2.18   0.0  0.458  6.998  45.8  6.0622  3.0  222.0   \n",
       "4  0.06905   0.0   2.18   0.0  0.458  7.147  54.2  6.0622  3.0  222.0   \n",
       "\n",
       "   PTRATIO       B  LSTAT     Y  \n",
       "0     15.3  396.90   4.98  24.0  \n",
       "1     17.8  396.90   9.14  21.6  \n",
       "2     17.8  392.83   4.03  34.7  \n",
       "3     18.7  394.63   2.94  33.4  \n",
       "4     18.7  396.90   5.33  36.2  "
      ]
     },
     "execution_count": 219,
     "metadata": {},
     "output_type": "execute_result"
    }
   ],
   "source": [
    "df.head()"
   ]
  },
  {
   "cell_type": "code",
   "execution_count": 220,
   "metadata": {
    "collapsed": true
   },
   "outputs": [],
   "source": [
    "import statsmodels.formula.api as sm"
   ]
  },
  {
   "cell_type": "code",
   "execution_count": 221,
   "metadata": {
    "collapsed": true
   },
   "outputs": [],
   "source": [
    "est = sm.ols(\"Y ~ CRIM + ZN + INDUS + CHAS + NOX\" ,\n",
    "            data = df).fit()"
   ]
  },
  {
   "cell_type": "code",
   "execution_count": 222,
   "metadata": {
    "collapsed": false
   },
   "outputs": [
    {
     "data": {
      "text/html": [
       "<table class=\"simpletable\">\n",
       "<caption>OLS Regression Results</caption>\n",
       "<tr>\n",
       "  <th>Dep. Variable:</th>            <td>Y</td>        <th>  R-squared:         </th> <td>   0.331</td>\n",
       "</tr>\n",
       "<tr>\n",
       "  <th>Model:</th>                   <td>OLS</td>       <th>  Adj. R-squared:    </th> <td>   0.324</td>\n",
       "</tr>\n",
       "<tr>\n",
       "  <th>Method:</th>             <td>Least Squares</td>  <th>  F-statistic:       </th> <td>   49.42</td>\n",
       "</tr>\n",
       "<tr>\n",
       "  <th>Date:</th>             <td>Thu, 11 Apr 2019</td> <th>  Prob (F-statistic):</th> <td>1.44e-41</td>\n",
       "</tr>\n",
       "<tr>\n",
       "  <th>Time:</th>                 <td>16:40:41</td>     <th>  Log-Likelihood:    </th> <td> -1738.6</td>\n",
       "</tr>\n",
       "<tr>\n",
       "  <th>No. Observations:</th>      <td>   506</td>      <th>  AIC:               </th> <td>   3489.</td>\n",
       "</tr>\n",
       "<tr>\n",
       "  <th>Df Residuals:</th>          <td>   500</td>      <th>  BIC:               </th> <td>   3515.</td>\n",
       "</tr>\n",
       "<tr>\n",
       "  <th>Df Model:</th>              <td>     5</td>      <th>                     </th>     <td> </td>   \n",
       "</tr>\n",
       "<tr>\n",
       "  <th>Covariance Type:</th>      <td>nonrobust</td>    <th>                     </th>     <td> </td>   \n",
       "</tr>\n",
       "</table>\n",
       "<table class=\"simpletable\">\n",
       "<tr>\n",
       "      <td></td>         <th>coef</th>     <th>std err</th>      <th>t</th>      <th>P>|t|</th>  <th>[0.025</th>    <th>0.975]</th>  \n",
       "</tr>\n",
       "<tr>\n",
       "  <th>Intercept</th> <td>   29.5517</td> <td>    2.223</td> <td>   13.291</td> <td> 0.000</td> <td>   25.183</td> <td>   33.920</td>\n",
       "</tr>\n",
       "<tr>\n",
       "  <th>CRIM</th>      <td>   -0.2164</td> <td>    0.044</td> <td>   -4.934</td> <td> 0.000</td> <td>   -0.303</td> <td>   -0.130</td>\n",
       "</tr>\n",
       "<tr>\n",
       "  <th>ZN</th>        <td>    0.0550</td> <td>    0.017</td> <td>    3.152</td> <td> 0.002</td> <td>    0.021</td> <td>    0.089</td>\n",
       "</tr>\n",
       "<tr>\n",
       "  <th>INDUS</th>     <td>   -0.3838</td> <td>    0.079</td> <td>   -4.829</td> <td> 0.000</td> <td>   -0.540</td> <td>   -0.228</td>\n",
       "</tr>\n",
       "<tr>\n",
       "  <th>CHAS</th>      <td>    7.0402</td> <td>    1.338</td> <td>    5.264</td> <td> 0.000</td> <td>    4.412</td> <td>    9.668</td>\n",
       "</tr>\n",
       "<tr>\n",
       "  <th>NOX</th>       <td>   -5.5493</td> <td>    4.694</td> <td>   -1.182</td> <td> 0.238</td> <td>  -14.772</td> <td>    3.673</td>\n",
       "</tr>\n",
       "</table>\n",
       "<table class=\"simpletable\">\n",
       "<tr>\n",
       "  <th>Omnibus:</th>       <td>177.988</td> <th>  Durbin-Watson:     </th> <td>   0.839</td> \n",
       "</tr>\n",
       "<tr>\n",
       "  <th>Prob(Omnibus):</th> <td> 0.000</td>  <th>  Jarque-Bera (JB):  </th> <td> 539.113</td> \n",
       "</tr>\n",
       "<tr>\n",
       "  <th>Skew:</th>          <td> 1.689</td>  <th>  Prob(JB):          </th> <td>8.57e-118</td>\n",
       "</tr>\n",
       "<tr>\n",
       "  <th>Kurtosis:</th>      <td> 6.763</td>  <th>  Cond. No.          </th> <td>    397.</td> \n",
       "</tr>\n",
       "</table><br/><br/>Warnings:<br/>[1] Standard Errors assume that the covariance matrix of the errors is correctly specified."
      ],
      "text/plain": [
       "<class 'statsmodels.iolib.summary.Summary'>\n",
       "\"\"\"\n",
       "                            OLS Regression Results                            \n",
       "==============================================================================\n",
       "Dep. Variable:                      Y   R-squared:                       0.331\n",
       "Model:                            OLS   Adj. R-squared:                  0.324\n",
       "Method:                 Least Squares   F-statistic:                     49.42\n",
       "Date:                Thu, 11 Apr 2019   Prob (F-statistic):           1.44e-41\n",
       "Time:                        16:40:41   Log-Likelihood:                -1738.6\n",
       "No. Observations:                 506   AIC:                             3489.\n",
       "Df Residuals:                     500   BIC:                             3515.\n",
       "Df Model:                           5                                         \n",
       "Covariance Type:            nonrobust                                         \n",
       "==============================================================================\n",
       "                 coef    std err          t      P>|t|      [0.025      0.975]\n",
       "------------------------------------------------------------------------------\n",
       "Intercept     29.5517      2.223     13.291      0.000      25.183      33.920\n",
       "CRIM          -0.2164      0.044     -4.934      0.000      -0.303      -0.130\n",
       "ZN             0.0550      0.017      3.152      0.002       0.021       0.089\n",
       "INDUS         -0.3838      0.079     -4.829      0.000      -0.540      -0.228\n",
       "CHAS           7.0402      1.338      5.264      0.000       4.412       9.668\n",
       "NOX           -5.5493      4.694     -1.182      0.238     -14.772       3.673\n",
       "==============================================================================\n",
       "Omnibus:                      177.988   Durbin-Watson:                   0.839\n",
       "Prob(Omnibus):                  0.000   Jarque-Bera (JB):              539.113\n",
       "Skew:                           1.689   Prob(JB):                    8.57e-118\n",
       "Kurtosis:                       6.763   Cond. No.                         397.\n",
       "==============================================================================\n",
       "\n",
       "Warnings:\n",
       "[1] Standard Errors assume that the covariance matrix of the errors is correctly specified.\n",
       "\"\"\""
      ]
     },
     "execution_count": 222,
     "metadata": {},
     "output_type": "execute_result"
    }
   ],
   "source": [
    "est.summary()"
   ]
  },
  {
   "cell_type": "markdown",
   "metadata": {},
   "source": [
    "# 機器學習簡介\n",
    "\n",
    "學函數的方法, 可以分為:\n",
    "\n",
    "* supervised learning（監督式學習）\n",
    "* unsupervised learning （非監督式學習）\n",
    "\n",
    "supervised learning 的話我們會將已知的答案送進去電腦, 讓電腦學習想要的函數。\n",
    "\n",
    "而 unsupervised learning 就是讓電腦去自我學習，產生電腦認為的結果\n",
    "\n",
    "supervised learning會介紹的是SVM, unsupervised learning則介紹K-Means。"
   ]
  },
  {
   "cell_type": "markdown",
   "metadata": {},
   "source": [
    "### SVM"
   ]
  },
  {
   "cell_type": "code",
   "execution_count": 200,
   "metadata": {
    "collapsed": true
   },
   "outputs": [],
   "source": [
    "from sklearn.svm import SVC\n",
    "from sklearn.datasets import load_iris"
   ]
  },
  {
   "cell_type": "code",
   "execution_count": 285,
   "metadata": {
    "collapsed": true
   },
   "outputs": [],
   "source": [
    "x = np.array([[-3,1], [-6,7], [3,-2], [5,-8]])\n",
    "y = np.array([1, 1, 2, 2])"
   ]
  },
  {
   "cell_type": "code",
   "execution_count": 287,
   "metadata": {
    "collapsed": false
   },
   "outputs": [
    {
     "data": {
      "text/plain": [
       "<matplotlib.collections.PathCollection at 0x127bce0b8>"
      ]
     },
     "execution_count": 287,
     "metadata": {},
     "output_type": "execute_result"
    },
    {
     "data": {
      "image/png": "[encoded data removed]",
      "text/plain": [
       "<Figure size 432x288 with 1 Axes>"
      ]
     },
     "metadata": {},
     "output_type": "display_data"
    }
   ],
   "source": [
    "plt.scatter(x[:,0], x[:,1], c=y)"
   ]
  },
  {
   "cell_type": "code",
   "execution_count": 288,
   "metadata": {
    "collapsed": true
   },
   "outputs": [],
   "source": [
    "clf = SVC()"
   ]
  },
  {
   "cell_type": "code",
   "execution_count": 289,
   "metadata": {
    "collapsed": false
   },
   "outputs": [
    {
     "data": {
      "text/plain": [
       "SVC(C=1.0, cache_size=200, class_weight=None, coef0=0.0,\n",
       "  decision_function_shape='ovr', degree=3, gamma='auto', kernel='rbf',\n",
       "  max_iter=-1, probability=False, random_state=None, shrinking=True,\n",
       "  tol=0.001, verbose=False)"
      ]
     },
     "execution_count": 289,
     "metadata": {},
     "output_type": "execute_result"
    }
   ],
   "source": [
    "clf.fit(x, y)"
   ]
  },
  {
   "cell_type": "code",
   "execution_count": 290,
   "metadata": {
    "collapsed": false
   },
   "outputs": [
    {
     "data": {
      "text/plain": [
       "array([2])"
      ]
     },
     "execution_count": 290,
     "metadata": {},
     "output_type": "execute_result"
    }
   ],
   "source": [
    "clf.predict([[2.5,3]])"
   ]
  },
  {
   "cell_type": "code",
   "execution_count": 291,
   "metadata": {
    "collapsed": true
   },
   "outputs": [],
   "source": [
    "xx = [1,2,3,4]\n",
    "yy = [5,6,7,8]"
   ]
  },
  {
   "cell_type": "code",
   "execution_count": 292,
   "metadata": {
    "collapsed": true
   },
   "outputs": [],
   "source": [
    "X, Y = np.meshgrid(xx,yy)"
   ]
  },
  {
   "cell_type": "code",
   "execution_count": 293,
   "metadata": {
    "collapsed": false
   },
   "outputs": [
    {
     "data": {
      "text/plain": [
       "array([[1, 2, 3, 4],\n",
       "       [1, 2, 3, 4],\n",
       "       [1, 2, 3, 4],\n",
       "       [1, 2, 3, 4]])"
      ]
     },
     "execution_count": 293,
     "metadata": {},
     "output_type": "execute_result"
    }
   ],
   "source": [
    "X"
   ]
  },
  {
   "cell_type": "code",
   "execution_count": 294,
   "metadata": {
    "collapsed": false
   },
   "outputs": [
    {
     "data": {
      "text/plain": [
       "array([[5, 5, 5, 5],\n",
       "       [6, 6, 6, 6],\n",
       "       [7, 7, 7, 7],\n",
       "       [8, 8, 8, 8]])"
      ]
     },
     "execution_count": 294,
     "metadata": {},
     "output_type": "execute_result"
    }
   ],
   "source": [
    "Y"
   ]
  },
  {
   "cell_type": "code",
   "execution_count": 295,
   "metadata": {
    "collapsed": false
   },
   "outputs": [
    {
     "data": {
      "text/plain": [
       "array([1, 2, 3, 4, 1, 2, 3, 4, 1, 2, 3, 4, 1, 2, 3, 4])"
      ]
     },
     "execution_count": 295,
     "metadata": {},
     "output_type": "execute_result"
    }
   ],
   "source": [
    "X1 = X.ravel()\n",
    "X1"
   ]
  },
  {
   "cell_type": "code",
   "execution_count": 296,
   "metadata": {
    "collapsed": false
   },
   "outputs": [
    {
     "data": {
      "text/plain": [
       "array([5, 5, 5, 5, 6, 6, 6, 6, 7, 7, 7, 7, 8, 8, 8, 8])"
      ]
     },
     "execution_count": 296,
     "metadata": {},
     "output_type": "execute_result"
    }
   ],
   "source": [
    "Y1 = Y.ravel()\n",
    "Y1"
   ]
  },
  {
   "cell_type": "code",
   "execution_count": 297,
   "metadata": {
    "collapsed": false
   },
   "outputs": [
    {
     "data": {
      "text/plain": [
       "<matplotlib.collections.PathCollection at 0x127fa79b0>"
      ]
     },
     "execution_count": 297,
     "metadata": {},
     "output_type": "execute_result"
    },
    {
     "data": {
      "image/png": "[encoded data removed]",
      "text/plain": [
       "<Figure size 432x288 with 1 Axes>"
      ]
     },
     "metadata": {},
     "output_type": "display_data"
    }
   ],
   "source": [
    "plt.scatter(X1, Y1)"
   ]
  },
  {
   "cell_type": "code",
   "execution_count": 298,
   "metadata": {
    "collapsed": true
   },
   "outputs": [],
   "source": [
    "X, Y = np.meshgrid(np.linspace(-6,5,30), np.linspace(-8,7,30))"
   ]
  },
  {
   "cell_type": "code",
   "execution_count": 299,
   "metadata": {
    "collapsed": true
   },
   "outputs": [],
   "source": [
    "X1 = X.ravel()\n",
    "Y1 = Y.ravel()"
   ]
  },
  {
   "cell_type": "code",
   "execution_count": 300,
   "metadata": {
    "collapsed": false
   },
   "outputs": [
    {
     "data": {
      "text/plain": [
       "<matplotlib.collections.PathCollection at 0x127649a58>"
      ]
     },
     "execution_count": 300,
     "metadata": {},
     "output_type": "execute_result"
    },
    {
     "data": {
      "image/png": "[encoded data removed]",
      "text/plain": [
       "<Figure size 432x288 with 1 Axes>"
      ]
     },
     "metadata": {},
     "output_type": "display_data"
    }
   ],
   "source": [
    "plt.scatter(X1, Y1)"
   ]
  },
  {
   "cell_type": "code",
   "execution_count": 301,
   "metadata": {
    "collapsed": false
   },
   "outputs": [
    {
     "data": {
      "text/plain": [
       "[(-6.0, -8.0),\n",
       " (-5.620689655172414, -8.0),\n",
       " (-5.241379310344827, -8.0),\n",
       " (-4.862068965517242, -8.0),\n",
       " (-4.482758620689655, -8.0),\n",
       " (-4.103448275862069, -8.0),\n",
       " (-3.724137931034483, -8.0),\n",
       " (-3.344827586206897, -8.0),\n",
       " (-2.9655172413793105, -8.0),\n",
       " (-2.586206896551724, -8.0),\n",
       " (-2.206896551724138, -8.0),\n",
       " (-1.8275862068965516, -8.0),\n",
       " (-1.4482758620689662, -8.0),\n",
       " (-1.06896551724138, -8.0),\n",
       " (-0.6896551724137936, -8.0),\n",
       " (-0.3103448275862073, -8.0),\n",
       " (0.068965517241379, -8.0),\n",
       " (0.4482758620689653, -8.0),\n",
       " (0.8275862068965516, -8.0),\n",
       " (1.206896551724138, -8.0),\n",
       " (1.5862068965517242, -8.0),\n",
       " (1.9655172413793096, -8.0),\n",
       " (2.344827586206897, -8.0),\n",
       " (2.724137931034482, -8.0),\n",
       " (3.1034482758620676, -8.0),\n",
       " (3.482758620689655, -8.0),\n",
       " (3.86206896551724, -8.0),\n",
       " (4.241379310344827, -8.0),\n",
       " (4.620689655172413, -8.0),\n",
       " (5.0, -8.0),\n",
       " (-6.0, -7.482758620689655),\n",
       " (-5.620689655172414, -7.482758620689655),\n",
       " (-5.241379310344827, -7.482758620689655),\n",
       " (-4.862068965517242, -7.482758620689655),\n",
       " (-4.482758620689655, -7.482758620689655),\n",
       " (-4.103448275862069, -7.482758620689655),\n",
       " (-3.724137931034483, -7.482758620689655),\n",
       " (-3.344827586206897, -7.482758620689655),\n",
       " (-2.9655172413793105, -7.482758620689655),\n",
       " (-2.586206896551724, -7.482758620689655),\n",
       " (-2.206896551724138, -7.482758620689655),\n",
       " (-1.8275862068965516, -7.482758620689655),\n",
       " (-1.4482758620689662, -7.482758620689655),\n",
       " (-1.06896551724138, -7.482758620689655),\n",
       " (-0.6896551724137936, -7.482758620689655),\n",
       " (-0.3103448275862073, -7.482758620689655),\n",
       " (0.068965517241379, -7.482758620689655),\n",
       " (0.4482758620689653, -7.482758620689655),\n",
       " (0.8275862068965516, -7.482758620689655),\n",
       " (1.206896551724138, -7.482758620689655),\n",
       " (1.5862068965517242, -7.482758620689655),\n",
       " (1.9655172413793096, -7.482758620689655),\n",
       " (2.344827586206897, -7.482758620689655),\n",
       " (2.724137931034482, -7.482758620689655),\n",
       " (3.1034482758620676, -7.482758620689655),\n",
       " (3.482758620689655, -7.482758620689655),\n",
       " (3.86206896551724, -7.482758620689655),\n",
       " (4.241379310344827, -7.482758620689655),\n",
       " (4.620689655172413, -7.482758620689655),\n",
       " (5.0, -7.482758620689655),\n",
       " (-6.0, -6.9655172413793105),\n",
       " (-5.620689655172414, -6.9655172413793105),\n",
       " (-5.241379310344827, -6.9655172413793105),\n",
       " (-4.862068965517242, -6.9655172413793105),\n",
       " (-4.482758620689655, -6.9655172413793105),\n",
       " (-4.103448275862069, -6.9655172413793105),\n",
       " (-3.724137931034483, -6.9655172413793105),\n",
       " (-3.344827586206897, -6.9655172413793105),\n",
       " (-2.9655172413793105, -6.9655172413793105),\n",
       " (-2.586206896551724, -6.9655172413793105),\n",
       " (-2.206896551724138, -6.9655172413793105),\n",
       " (-1.8275862068965516, -6.9655172413793105),\n",
       " (-1.4482758620689662, -6.9655172413793105),\n",
       " (-1.06896551724138, -6.9655172413793105),\n",
       " (-0.6896551724137936, -6.9655172413793105),\n",
       " (-0.3103448275862073, -6.9655172413793105),\n",
       " (0.068965517241379, -6.9655172413793105),\n",
       " (0.4482758620689653, -6.9655172413793105),\n",
       " (0.8275862068965516, -6.9655172413793105),\n",
       " (1.206896551724138, -6.9655172413793105),\n",
       " (1.5862068965517242, -6.9655172413793105),\n",
       " (1.9655172413793096, -6.9655172413793105),\n",
       " (2.344827586206897, -6.9655172413793105),\n",
       " (2.724137931034482, -6.9655172413793105),\n",
       " (3.1034482758620676, -6.9655172413793105),\n",
       " (3.482758620689655, -6.9655172413793105),\n",
       " (3.86206896551724, -6.9655172413793105),\n",
       " (4.241379310344827, -6.9655172413793105),\n",
       " (4.620689655172413, -6.9655172413793105),\n",
       " (5.0, -6.9655172413793105),\n",
       " (-6.0, -6.448275862068965),\n",
       " (-5.620689655172414, -6.448275862068965),\n",
       " (-5.241379310344827, -6.448275862068965),\n",
       " (-4.862068965517242, -6.448275862068965),\n",
       " (-4.482758620689655, -6.448275862068965),\n",
       " (-4.103448275862069, -6.448275862068965),\n",
       " (-3.724137931034483, -6.448275862068965),\n",
       " (-3.344827586206897, -6.448275862068965),\n",
       " (-2.9655172413793105, -6.448275862068965),\n",
       " (-2.586206896551724, -6.448275862068965),\n",
       " (-2.206896551724138, -6.448275862068965),\n",
       " (-1.8275862068965516, -6.448275862068965),\n",
       " (-1.4482758620689662, -6.448275862068965),\n",
       " (-1.06896551724138, -6.448275862068965),\n",
       " (-0.6896551724137936, -6.448275862068965),\n",
       " (-0.3103448275862073, -6.448275862068965),\n",
       " (0.068965517241379, -6.448275862068965),\n",
       " (0.4482758620689653, -6.448275862068965),\n",
       " (0.8275862068965516, -6.448275862068965),\n",
       " (1.206896551724138, -6.448275862068965),\n",
       " (1.5862068965517242, -6.448275862068965),\n",
       " (1.9655172413793096, -6.448275862068965),\n",
       " (2.344827586206897, -6.448275862068965),\n",
       " (2.724137931034482, -6.448275862068965),\n",
       " (3.1034482758620676, -6.448275862068965),\n",
       " (3.482758620689655, -6.448275862068965),\n",
       " (3.86206896551724, -6.448275862068965),\n",
       " (4.241379310344827, -6.448275862068965),\n",
       " (4.620689655172413, -6.448275862068965),\n",
       " (5.0, -6.448275862068965),\n",
       " (-6.0, -5.931034482758621),\n",
       " (-5.620689655172414, -5.931034482758621),\n",
       " (-5.241379310344827, -5.931034482758621),\n",
       " (-4.862068965517242, -5.931034482758621),\n",
       " (-4.482758620689655, -5.931034482758621),\n",
       " (-4.103448275862069, -5.931034482758621),\n",
       " (-3.724137931034483, -5.931034482758621),\n",
       " (-3.344827586206897, -5.931034482758621),\n",
       " (-2.9655172413793105, -5.931034482758621),\n",
       " (-2.586206896551724, -5.931034482758621),\n",
       " (-2.206896551724138, -5.931034482758621),\n",
       " (-1.8275862068965516, -5.931034482758621),\n",
       " (-1.4482758620689662, -5.931034482758621),\n",
       " (-1.06896551724138, -5.931034482758621),\n",
       " (-0.6896551724137936, -5.931034482758621),\n",
       " (-0.3103448275862073, -5.931034482758621),\n",
       " (0.068965517241379, -5.931034482758621),\n",
       " (0.4482758620689653, -5.931034482758621),\n",
       " (0.8275862068965516, -5.931034482758621),\n",
       " (1.206896551724138, -5.931034482758621),\n",
       " (1.5862068965517242, -5.931034482758621),\n",
       " (1.9655172413793096, -5.931034482758621),\n",
       " (2.344827586206897, -5.931034482758621),\n",
       " (2.724137931034482, -5.931034482758621),\n",
       " (3.1034482758620676, -5.931034482758621),\n",
       " (3.482758620689655, -5.931034482758621),\n",
       " (3.86206896551724, -5.931034482758621),\n",
       " (4.241379310344827, -5.931034482758621),\n",
       " (4.620689655172413, -5.931034482758621),\n",
       " (5.0, -5.931034482758621),\n",
       " (-6.0, -5.413793103448276),\n",
       " (-5.620689655172414, -5.413793103448276),\n",
       " (-5.241379310344827, -5.413793103448276),\n",
       " (-4.862068965517242, -5.413793103448276),\n",
       " (-4.482758620689655, -5.413793103448276),\n",
       " (-4.103448275862069, -5.413793103448276),\n",
       " (-3.724137931034483, -5.413793103448276),\n",
       " (-3.344827586206897, -5.413793103448276),\n",
       " (-2.9655172413793105, -5.413793103448276),\n",
       " (-2.586206896551724, -5.413793103448276),\n",
       " (-2.206896551724138, -5.413793103448276),\n",
       " (-1.8275862068965516, -5.413793103448276),\n",
       " (-1.4482758620689662, -5.413793103448276),\n",
       " (-1.06896551724138, -5.413793103448276),\n",
       " (-0.6896551724137936, -5.413793103448276),\n",
       " (-0.3103448275862073, -5.413793103448276),\n",
       " (0.068965517241379, -5.413793103448276),\n",
       " (0.4482758620689653, -5.413793103448276),\n",
       " (0.8275862068965516, -5.413793103448276),\n",
       " (1.206896551724138, -5.413793103448276),\n",
       " (1.5862068965517242, -5.413793103448276),\n",
       " (1.9655172413793096, -5.413793103448276),\n",
       " (2.344827586206897, -5.413793103448276),\n",
       " (2.724137931034482, -5.413793103448276),\n",
       " (3.1034482758620676, -5.413793103448276),\n",
       " (3.482758620689655, -5.413793103448276),\n",
       " (3.86206896551724, -5.413793103448276),\n",
       " (4.241379310344827, -5.413793103448276),\n",
       " (4.620689655172413, -5.413793103448276),\n",
       " (5.0, -5.413793103448276),\n",
       " (-6.0, -4.896551724137931),\n",
       " (-5.620689655172414, -4.896551724137931),\n",
       " (-5.241379310344827, -4.896551724137931),\n",
       " (-4.862068965517242, -4.896551724137931),\n",
       " (-4.482758620689655, -4.896551724137931),\n",
       " (-4.103448275862069, -4.896551724137931),\n",
       " (-3.724137931034483, -4.896551724137931),\n",
       " (-3.344827586206897, -4.896551724137931),\n",
       " (-2.9655172413793105, -4.896551724137931),\n",
       " (-2.586206896551724, -4.896551724137931),\n",
       " (-2.206896551724138, -4.896551724137931),\n",
       " (-1.8275862068965516, -4.896551724137931),\n",
       " (-1.4482758620689662, -4.896551724137931),\n",
       " (-1.06896551724138, -4.896551724137931),\n",
       " (-0.6896551724137936, -4.896551724137931),\n",
       " (-0.3103448275862073, -4.896551724137931),\n",
       " (0.068965517241379, -4.896551724137931),\n",
       " (0.4482758620689653, -4.896551724137931),\n",
       " (0.8275862068965516, -4.896551724137931),\n",
       " (1.206896551724138, -4.896551724137931),\n",
       " (1.5862068965517242, -4.896551724137931),\n",
       " (1.9655172413793096, -4.896551724137931),\n",
       " (2.344827586206897, -4.896551724137931),\n",
       " (2.724137931034482, -4.896551724137931),\n",
       " (3.1034482758620676, -4.896551724137931),\n",
       " (3.482758620689655, -4.896551724137931),\n",
       " (3.86206896551724, -4.896551724137931),\n",
       " (4.241379310344827, -4.896551724137931),\n",
       " (4.620689655172413, -4.896551724137931),\n",
       " (5.0, -4.896551724137931),\n",
       " (-6.0, -4.379310344827585),\n",
       " (-5.620689655172414, -4.379310344827585),\n",
       " (-5.241379310344827, -4.379310344827585),\n",
       " (-4.862068965517242, -4.379310344827585),\n",
       " (-4.482758620689655, -4.379310344827585),\n",
       " (-4.103448275862069, -4.379310344827585),\n",
       " (-3.724137931034483, -4.379310344827585),\n",
       " (-3.344827586206897, -4.379310344827585),\n",
       " (-2.9655172413793105, -4.379310344827585),\n",
       " (-2.586206896551724, -4.379310344827585),\n",
       " (-2.206896551724138, -4.379310344827585),\n",
       " (-1.8275862068965516, -4.379310344827585),\n",
       " (-1.4482758620689662, -4.379310344827585),\n",
       " (-1.06896551724138, -4.379310344827585),\n",
       " (-0.6896551724137936, -4.379310344827585),\n",
       " (-0.3103448275862073, -4.379310344827585),\n",
       " (0.068965517241379, -4.379310344827585),\n",
       " (0.4482758620689653, -4.379310344827585),\n",
       " (0.8275862068965516, -4.379310344827585),\n",
       " (1.206896551724138, -4.379310344827585),\n",
       " (1.5862068965517242, -4.379310344827585),\n",
       " (1.9655172413793096, -4.379310344827585),\n",
       " (2.344827586206897, -4.379310344827585),\n",
       " (2.724137931034482, -4.379310344827585),\n",
       " (3.1034482758620676, -4.379310344827585),\n",
       " (3.482758620689655, -4.379310344827585),\n",
       " (3.86206896551724, -4.379310344827585),\n",
       " (4.241379310344827, -4.379310344827585),\n",
       " (4.620689655172413, -4.379310344827585),\n",
       " (5.0, -4.379310344827585),\n",
       " (-6.0, -3.862068965517241),\n",
       " (-5.620689655172414, -3.862068965517241),\n",
       " (-5.241379310344827, -3.862068965517241),\n",
       " (-4.862068965517242, -3.862068965517241),\n",
       " (-4.482758620689655, -3.862068965517241),\n",
       " (-4.103448275862069, -3.862068965517241),\n",
       " (-3.724137931034483, -3.862068965517241),\n",
       " (-3.344827586206897, -3.862068965517241),\n",
       " (-2.9655172413793105, -3.862068965517241),\n",
       " (-2.586206896551724, -3.862068965517241),\n",
       " (-2.206896551724138, -3.862068965517241),\n",
       " (-1.8275862068965516, -3.862068965517241),\n",
       " (-1.4482758620689662, -3.862068965517241),\n",
       " (-1.06896551724138, -3.862068965517241),\n",
       " (-0.6896551724137936, -3.862068965517241),\n",
       " (-0.3103448275862073, -3.862068965517241),\n",
       " (0.068965517241379, -3.862068965517241),\n",
       " (0.4482758620689653, -3.862068965517241),\n",
       " (0.8275862068965516, -3.862068965517241),\n",
       " (1.206896551724138, -3.862068965517241),\n",
       " (1.5862068965517242, -3.862068965517241),\n",
       " (1.9655172413793096, -3.862068965517241),\n",
       " (2.344827586206897, -3.862068965517241),\n",
       " (2.724137931034482, -3.862068965517241),\n",
       " (3.1034482758620676, -3.862068965517241),\n",
       " (3.482758620689655, -3.862068965517241),\n",
       " (3.86206896551724, -3.862068965517241),\n",
       " (4.241379310344827, -3.862068965517241),\n",
       " (4.620689655172413, -3.862068965517241),\n",
       " (5.0, -3.862068965517241),\n",
       " (-6.0, -3.344827586206896),\n",
       " (-5.620689655172414, -3.344827586206896),\n",
       " (-5.241379310344827, -3.344827586206896),\n",
       " (-4.862068965517242, -3.344827586206896),\n",
       " (-4.482758620689655, -3.344827586206896),\n",
       " (-4.103448275862069, -3.344827586206896),\n",
       " (-3.724137931034483, -3.344827586206896),\n",
       " (-3.344827586206897, -3.344827586206896),\n",
       " (-2.9655172413793105, -3.344827586206896),\n",
       " (-2.586206896551724, -3.344827586206896),\n",
       " (-2.206896551724138, -3.344827586206896),\n",
       " (-1.8275862068965516, -3.344827586206896),\n",
       " (-1.4482758620689662, -3.344827586206896),\n",
       " (-1.06896551724138, -3.344827586206896),\n",
       " (-0.6896551724137936, -3.344827586206896),\n",
       " (-0.3103448275862073, -3.344827586206896),\n",
       " (0.068965517241379, -3.344827586206896),\n",
       " (0.4482758620689653, -3.344827586206896),\n",
       " (0.8275862068965516, -3.344827586206896),\n",
       " (1.206896551724138, -3.344827586206896),\n",
       " (1.5862068965517242, -3.344827586206896),\n",
       " (1.9655172413793096, -3.344827586206896),\n",
       " (2.344827586206897, -3.344827586206896),\n",
       " (2.724137931034482, -3.344827586206896),\n",
       " (3.1034482758620676, -3.344827586206896),\n",
       " (3.482758620689655, -3.344827586206896),\n",
       " (3.86206896551724, -3.344827586206896),\n",
       " (4.241379310344827, -3.344827586206896),\n",
       " (4.620689655172413, -3.344827586206896),\n",
       " (5.0, -3.344827586206896),\n",
       " (-6.0, -2.8275862068965516),\n",
       " (-5.620689655172414, -2.8275862068965516),\n",
       " (-5.241379310344827, -2.8275862068965516),\n",
       " (-4.862068965517242, -2.8275862068965516),\n",
       " (-4.482758620689655, -2.8275862068965516),\n",
       " (-4.103448275862069, -2.8275862068965516),\n",
       " (-3.724137931034483, -2.8275862068965516),\n",
       " (-3.344827586206897, -2.8275862068965516),\n",
       " (-2.9655172413793105, -2.8275862068965516),\n",
       " (-2.586206896551724, -2.8275862068965516),\n",
       " (-2.206896551724138, -2.8275862068965516),\n",
       " (-1.8275862068965516, -2.8275862068965516),\n",
       " (-1.4482758620689662, -2.8275862068965516),\n",
       " (-1.06896551724138, -2.8275862068965516),\n",
       " (-0.6896551724137936, -2.8275862068965516),\n",
       " (-0.3103448275862073, -2.8275862068965516),\n",
       " (0.068965517241379, -2.8275862068965516),\n",
       " (0.4482758620689653, -2.8275862068965516),\n",
       " (0.8275862068965516, -2.8275862068965516),\n",
       " (1.206896551724138, -2.8275862068965516),\n",
       " (1.5862068965517242, -2.8275862068965516),\n",
       " (1.9655172413793096, -2.8275862068965516),\n",
       " (2.344827586206897, -2.8275862068965516),\n",
       " (2.724137931034482, -2.8275862068965516),\n",
       " (3.1034482758620676, -2.8275862068965516),\n",
       " (3.482758620689655, -2.8275862068965516),\n",
       " (3.86206896551724, -2.8275862068965516),\n",
       " (4.241379310344827, -2.8275862068965516),\n",
       " (4.620689655172413, -2.8275862068965516),\n",
       " (5.0, -2.8275862068965516),\n",
       " (-6.0, -2.3103448275862064),\n",
       " (-5.620689655172414, -2.3103448275862064),\n",
       " (-5.241379310344827, -2.3103448275862064),\n",
       " (-4.862068965517242, -2.3103448275862064),\n",
       " (-4.482758620689655, -2.3103448275862064),\n",
       " (-4.103448275862069, -2.3103448275862064),\n",
       " (-3.724137931034483, -2.3103448275862064),\n",
       " (-3.344827586206897, -2.3103448275862064),\n",
       " (-2.9655172413793105, -2.3103448275862064),\n",
       " (-2.586206896551724, -2.3103448275862064),\n",
       " (-2.206896551724138, -2.3103448275862064),\n",
       " (-1.8275862068965516, -2.3103448275862064),\n",
       " (-1.4482758620689662, -2.3103448275862064),\n",
       " (-1.06896551724138, -2.3103448275862064),\n",
       " (-0.6896551724137936, -2.3103448275862064),\n",
       " (-0.3103448275862073, -2.3103448275862064),\n",
       " (0.068965517241379, -2.3103448275862064),\n",
       " (0.4482758620689653, -2.3103448275862064),\n",
       " (0.8275862068965516, -2.3103448275862064),\n",
       " (1.206896551724138, -2.3103448275862064),\n",
       " (1.5862068965517242, -2.3103448275862064),\n",
       " (1.9655172413793096, -2.3103448275862064),\n",
       " (2.344827586206897, -2.3103448275862064),\n",
       " (2.724137931034482, -2.3103448275862064),\n",
       " (3.1034482758620676, -2.3103448275862064),\n",
       " (3.482758620689655, -2.3103448275862064),\n",
       " (3.86206896551724, -2.3103448275862064),\n",
       " (4.241379310344827, -2.3103448275862064),\n",
       " (4.620689655172413, -2.3103448275862064),\n",
       " (5.0, -2.3103448275862064),\n",
       " (-6.0, -1.7931034482758612),\n",
       " (-5.620689655172414, -1.7931034482758612),\n",
       " (-5.241379310344827, -1.7931034482758612),\n",
       " (-4.862068965517242, -1.7931034482758612),\n",
       " (-4.482758620689655, -1.7931034482758612),\n",
       " (-4.103448275862069, -1.7931034482758612),\n",
       " (-3.724137931034483, -1.7931034482758612),\n",
       " (-3.344827586206897, -1.7931034482758612),\n",
       " (-2.9655172413793105, -1.7931034482758612),\n",
       " (-2.586206896551724, -1.7931034482758612),\n",
       " (-2.206896551724138, -1.7931034482758612),\n",
       " (-1.8275862068965516, -1.7931034482758612),\n",
       " (-1.4482758620689662, -1.7931034482758612),\n",
       " (-1.06896551724138, -1.7931034482758612),\n",
       " (-0.6896551724137936, -1.7931034482758612),\n",
       " (-0.3103448275862073, -1.7931034482758612),\n",
       " (0.068965517241379, -1.7931034482758612),\n",
       " (0.4482758620689653, -1.7931034482758612),\n",
       " (0.8275862068965516, -1.7931034482758612),\n",
       " (1.206896551724138, -1.7931034482758612),\n",
       " (1.5862068965517242, -1.7931034482758612),\n",
       " (1.9655172413793096, -1.7931034482758612),\n",
       " (2.344827586206897, -1.7931034482758612),\n",
       " (2.724137931034482, -1.7931034482758612),\n",
       " (3.1034482758620676, -1.7931034482758612),\n",
       " (3.482758620689655, -1.7931034482758612),\n",
       " (3.86206896551724, -1.7931034482758612),\n",
       " (4.241379310344827, -1.7931034482758612),\n",
       " (4.620689655172413, -1.7931034482758612),\n",
       " (5.0, -1.7931034482758612),\n",
       " (-6.0, -1.275862068965517),\n",
       " (-5.620689655172414, -1.275862068965517),\n",
       " (-5.241379310344827, -1.275862068965517),\n",
       " (-4.862068965517242, -1.275862068965517),\n",
       " (-4.482758620689655, -1.275862068965517),\n",
       " (-4.103448275862069, -1.275862068965517),\n",
       " (-3.724137931034483, -1.275862068965517),\n",
       " (-3.344827586206897, -1.275862068965517),\n",
       " (-2.9655172413793105, -1.275862068965517),\n",
       " (-2.586206896551724, -1.275862068965517),\n",
       " (-2.206896551724138, -1.275862068965517),\n",
       " (-1.8275862068965516, -1.275862068965517),\n",
       " (-1.4482758620689662, -1.275862068965517),\n",
       " (-1.06896551724138, -1.275862068965517),\n",
       " (-0.6896551724137936, -1.275862068965517),\n",
       " (-0.3103448275862073, -1.275862068965517),\n",
       " (0.068965517241379, -1.275862068965517),\n",
       " (0.4482758620689653, -1.275862068965517),\n",
       " (0.8275862068965516, -1.275862068965517),\n",
       " (1.206896551724138, -1.275862068965517),\n",
       " (1.5862068965517242, -1.275862068965517),\n",
       " (1.9655172413793096, -1.275862068965517),\n",
       " (2.344827586206897, -1.275862068965517),\n",
       " (2.724137931034482, -1.275862068965517),\n",
       " (3.1034482758620676, -1.275862068965517),\n",
       " (3.482758620689655, -1.275862068965517),\n",
       " (3.86206896551724, -1.275862068965517),\n",
       " (4.241379310344827, -1.275862068965517),\n",
       " (4.620689655172413, -1.275862068965517),\n",
       " (5.0, -1.275862068965517),\n",
       " (-6.0, -0.7586206896551717),\n",
       " (-5.620689655172414, -0.7586206896551717),\n",
       " (-5.241379310344827, -0.7586206896551717),\n",
       " (-4.862068965517242, -0.7586206896551717),\n",
       " (-4.482758620689655, -0.7586206896551717),\n",
       " (-4.103448275862069, -0.7586206896551717),\n",
       " (-3.724137931034483, -0.7586206896551717),\n",
       " (-3.344827586206897, -0.7586206896551717),\n",
       " (-2.9655172413793105, -0.7586206896551717),\n",
       " (-2.586206896551724, -0.7586206896551717),\n",
       " (-2.206896551724138, -0.7586206896551717),\n",
       " (-1.8275862068965516, -0.7586206896551717),\n",
       " (-1.4482758620689662, -0.7586206896551717),\n",
       " (-1.06896551724138, -0.7586206896551717),\n",
       " (-0.6896551724137936, -0.7586206896551717),\n",
       " (-0.3103448275862073, -0.7586206896551717),\n",
       " (0.068965517241379, -0.7586206896551717),\n",
       " (0.4482758620689653, -0.7586206896551717),\n",
       " (0.8275862068965516, -0.7586206896551717),\n",
       " (1.206896551724138, -0.7586206896551717),\n",
       " (1.5862068965517242, -0.7586206896551717),\n",
       " (1.9655172413793096, -0.7586206896551717),\n",
       " (2.344827586206897, -0.7586206896551717),\n",
       " (2.724137931034482, -0.7586206896551717),\n",
       " (3.1034482758620676, -0.7586206896551717),\n",
       " (3.482758620689655, -0.7586206896551717),\n",
       " (3.86206896551724, -0.7586206896551717),\n",
       " (4.241379310344827, -0.7586206896551717),\n",
       " (4.620689655172413, -0.7586206896551717),\n",
       " (5.0, -0.7586206896551717),\n",
       " (-6.0, -0.2413793103448274),\n",
       " (-5.620689655172414, -0.2413793103448274),\n",
       " (-5.241379310344827, -0.2413793103448274),\n",
       " (-4.862068965517242, -0.2413793103448274),\n",
       " (-4.482758620689655, -0.2413793103448274),\n",
       " (-4.103448275862069, -0.2413793103448274),\n",
       " (-3.724137931034483, -0.2413793103448274),\n",
       " (-3.344827586206897, -0.2413793103448274),\n",
       " (-2.9655172413793105, -0.2413793103448274),\n",
       " (-2.586206896551724, -0.2413793103448274),\n",
       " (-2.206896551724138, -0.2413793103448274),\n",
       " (-1.8275862068965516, -0.2413793103448274),\n",
       " (-1.4482758620689662, -0.2413793103448274),\n",
       " (-1.06896551724138, -0.2413793103448274),\n",
       " (-0.6896551724137936, -0.2413793103448274),\n",
       " (-0.3103448275862073, -0.2413793103448274),\n",
       " (0.068965517241379, -0.2413793103448274),\n",
       " (0.4482758620689653, -0.2413793103448274),\n",
       " (0.8275862068965516, -0.2413793103448274),\n",
       " (1.206896551724138, -0.2413793103448274),\n",
       " (1.5862068965517242, -0.2413793103448274),\n",
       " (1.9655172413793096, -0.2413793103448274),\n",
       " (2.344827586206897, -0.2413793103448274),\n",
       " (2.724137931034482, -0.2413793103448274),\n",
       " (3.1034482758620676, -0.2413793103448274),\n",
       " (3.482758620689655, -0.2413793103448274),\n",
       " (3.86206896551724, -0.2413793103448274),\n",
       " (4.241379310344827, -0.2413793103448274),\n",
       " (4.620689655172413, -0.2413793103448274),\n",
       " (5.0, -0.2413793103448274),\n",
       " (-6.0, 0.2758620689655178),\n",
       " (-5.620689655172414, 0.2758620689655178),\n",
       " (-5.241379310344827, 0.2758620689655178),\n",
       " (-4.862068965517242, 0.2758620689655178),\n",
       " (-4.482758620689655, 0.2758620689655178),\n",
       " (-4.103448275862069, 0.2758620689655178),\n",
       " (-3.724137931034483, 0.2758620689655178),\n",
       " (-3.344827586206897, 0.2758620689655178),\n",
       " (-2.9655172413793105, 0.2758620689655178),\n",
       " (-2.586206896551724, 0.2758620689655178),\n",
       " (-2.206896551724138, 0.2758620689655178),\n",
       " (-1.8275862068965516, 0.2758620689655178),\n",
       " (-1.4482758620689662, 0.2758620689655178),\n",
       " (-1.06896551724138, 0.2758620689655178),\n",
       " (-0.6896551724137936, 0.2758620689655178),\n",
       " (-0.3103448275862073, 0.2758620689655178),\n",
       " (0.068965517241379, 0.2758620689655178),\n",
       " (0.4482758620689653, 0.2758620689655178),\n",
       " (0.8275862068965516, 0.2758620689655178),\n",
       " (1.206896551724138, 0.2758620689655178),\n",
       " (1.5862068965517242, 0.2758620689655178),\n",
       " (1.9655172413793096, 0.2758620689655178),\n",
       " (2.344827586206897, 0.2758620689655178),\n",
       " (2.724137931034482, 0.2758620689655178),\n",
       " (3.1034482758620676, 0.2758620689655178),\n",
       " (3.482758620689655, 0.2758620689655178),\n",
       " (3.86206896551724, 0.2758620689655178),\n",
       " (4.241379310344827, 0.2758620689655178),\n",
       " (4.620689655172413, 0.2758620689655178),\n",
       " (5.0, 0.2758620689655178),\n",
       " (-6.0, 0.793103448275863),\n",
       " (-5.620689655172414, 0.793103448275863),\n",
       " (-5.241379310344827, 0.793103448275863),\n",
       " (-4.862068965517242, 0.793103448275863),\n",
       " (-4.482758620689655, 0.793103448275863),\n",
       " (-4.103448275862069, 0.793103448275863),\n",
       " (-3.724137931034483, 0.793103448275863),\n",
       " (-3.344827586206897, 0.793103448275863),\n",
       " (-2.9655172413793105, 0.793103448275863),\n",
       " (-2.586206896551724, 0.793103448275863),\n",
       " (-2.206896551724138, 0.793103448275863),\n",
       " (-1.8275862068965516, 0.793103448275863),\n",
       " (-1.4482758620689662, 0.793103448275863),\n",
       " (-1.06896551724138, 0.793103448275863),\n",
       " (-0.6896551724137936, 0.793103448275863),\n",
       " (-0.3103448275862073, 0.793103448275863),\n",
       " (0.068965517241379, 0.793103448275863),\n",
       " (0.4482758620689653, 0.793103448275863),\n",
       " (0.8275862068965516, 0.793103448275863),\n",
       " (1.206896551724138, 0.793103448275863),\n",
       " (1.5862068965517242, 0.793103448275863),\n",
       " (1.9655172413793096, 0.793103448275863),\n",
       " (2.344827586206897, 0.793103448275863),\n",
       " (2.724137931034482, 0.793103448275863),\n",
       " (3.1034482758620676, 0.793103448275863),\n",
       " (3.482758620689655, 0.793103448275863),\n",
       " (3.86206896551724, 0.793103448275863),\n",
       " (4.241379310344827, 0.793103448275863),\n",
       " (4.620689655172413, 0.793103448275863),\n",
       " (5.0, 0.793103448275863),\n",
       " (-6.0, 1.3103448275862082),\n",
       " (-5.620689655172414, 1.3103448275862082),\n",
       " (-5.241379310344827, 1.3103448275862082),\n",
       " (-4.862068965517242, 1.3103448275862082),\n",
       " (-4.482758620689655, 1.3103448275862082),\n",
       " (-4.103448275862069, 1.3103448275862082),\n",
       " (-3.724137931034483, 1.3103448275862082),\n",
       " (-3.344827586206897, 1.3103448275862082),\n",
       " (-2.9655172413793105, 1.3103448275862082),\n",
       " (-2.586206896551724, 1.3103448275862082),\n",
       " (-2.206896551724138, 1.3103448275862082),\n",
       " (-1.8275862068965516, 1.3103448275862082),\n",
       " (-1.4482758620689662, 1.3103448275862082),\n",
       " (-1.06896551724138, 1.3103448275862082),\n",
       " (-0.6896551724137936, 1.3103448275862082),\n",
       " (-0.3103448275862073, 1.3103448275862082),\n",
       " (0.068965517241379, 1.3103448275862082),\n",
       " (0.4482758620689653, 1.3103448275862082),\n",
       " (0.8275862068965516, 1.3103448275862082),\n",
       " (1.206896551724138, 1.3103448275862082),\n",
       " (1.5862068965517242, 1.3103448275862082),\n",
       " (1.9655172413793096, 1.3103448275862082),\n",
       " (2.344827586206897, 1.3103448275862082),\n",
       " (2.724137931034482, 1.3103448275862082),\n",
       " (3.1034482758620676, 1.3103448275862082),\n",
       " (3.482758620689655, 1.3103448275862082),\n",
       " (3.86206896551724, 1.3103448275862082),\n",
       " (4.241379310344827, 1.3103448275862082),\n",
       " (4.620689655172413, 1.3103448275862082),\n",
       " (5.0, 1.3103448275862082),\n",
       " (-6.0, 1.8275862068965516),\n",
       " (-5.620689655172414, 1.8275862068965516),\n",
       " (-5.241379310344827, 1.8275862068965516),\n",
       " (-4.862068965517242, 1.8275862068965516),\n",
       " (-4.482758620689655, 1.8275862068965516),\n",
       " (-4.103448275862069, 1.8275862068965516),\n",
       " (-3.724137931034483, 1.8275862068965516),\n",
       " (-3.344827586206897, 1.8275862068965516),\n",
       " (-2.9655172413793105, 1.8275862068965516),\n",
       " (-2.586206896551724, 1.8275862068965516),\n",
       " (-2.206896551724138, 1.8275862068965516),\n",
       " (-1.8275862068965516, 1.8275862068965516),\n",
       " (-1.4482758620689662, 1.8275862068965516),\n",
       " (-1.06896551724138, 1.8275862068965516),\n",
       " (-0.6896551724137936, 1.8275862068965516),\n",
       " (-0.3103448275862073, 1.8275862068965516),\n",
       " (0.068965517241379, 1.8275862068965516),\n",
       " (0.4482758620689653, 1.8275862068965516),\n",
       " (0.8275862068965516, 1.8275862068965516),\n",
       " (1.206896551724138, 1.8275862068965516),\n",
       " (1.5862068965517242, 1.8275862068965516),\n",
       " (1.9655172413793096, 1.8275862068965516),\n",
       " (2.344827586206897, 1.8275862068965516),\n",
       " (2.724137931034482, 1.8275862068965516),\n",
       " (3.1034482758620676, 1.8275862068965516),\n",
       " (3.482758620689655, 1.8275862068965516),\n",
       " (3.86206896551724, 1.8275862068965516),\n",
       " (4.241379310344827, 1.8275862068965516),\n",
       " (4.620689655172413, 1.8275862068965516),\n",
       " (5.0, 1.8275862068965516),\n",
       " (-6.0, 2.344827586206897),\n",
       " (-5.620689655172414, 2.344827586206897),\n",
       " (-5.241379310344827, 2.344827586206897),\n",
       " (-4.862068965517242, 2.344827586206897),\n",
       " (-4.482758620689655, 2.344827586206897),\n",
       " (-4.103448275862069, 2.344827586206897),\n",
       " (-3.724137931034483, 2.344827586206897),\n",
       " (-3.344827586206897, 2.344827586206897),\n",
       " (-2.9655172413793105, 2.344827586206897),\n",
       " (-2.586206896551724, 2.344827586206897),\n",
       " (-2.206896551724138, 2.344827586206897),\n",
       " (-1.8275862068965516, 2.344827586206897),\n",
       " (-1.4482758620689662, 2.344827586206897),\n",
       " (-1.06896551724138, 2.344827586206897),\n",
       " (-0.6896551724137936, 2.344827586206897),\n",
       " (-0.3103448275862073, 2.344827586206897),\n",
       " (0.068965517241379, 2.344827586206897),\n",
       " (0.4482758620689653, 2.344827586206897),\n",
       " (0.8275862068965516, 2.344827586206897),\n",
       " (1.206896551724138, 2.344827586206897),\n",
       " (1.5862068965517242, 2.344827586206897),\n",
       " (1.9655172413793096, 2.344827586206897),\n",
       " (2.344827586206897, 2.344827586206897),\n",
       " (2.724137931034482, 2.344827586206897),\n",
       " (3.1034482758620676, 2.344827586206897),\n",
       " (3.482758620689655, 2.344827586206897),\n",
       " (3.86206896551724, 2.344827586206897),\n",
       " (4.241379310344827, 2.344827586206897),\n",
       " (4.620689655172413, 2.344827586206897),\n",
       " (5.0, 2.344827586206897),\n",
       " (-6.0, 2.862068965517242),\n",
       " (-5.620689655172414, 2.862068965517242),\n",
       " (-5.241379310344827, 2.862068965517242),\n",
       " (-4.862068965517242, 2.862068965517242),\n",
       " (-4.482758620689655, 2.862068965517242),\n",
       " (-4.103448275862069, 2.862068965517242),\n",
       " (-3.724137931034483, 2.862068965517242),\n",
       " (-3.344827586206897, 2.862068965517242),\n",
       " (-2.9655172413793105, 2.862068965517242),\n",
       " (-2.586206896551724, 2.862068965517242),\n",
       " (-2.206896551724138, 2.862068965517242),\n",
       " (-1.8275862068965516, 2.862068965517242),\n",
       " (-1.4482758620689662, 2.862068965517242),\n",
       " (-1.06896551724138, 2.862068965517242),\n",
       " (-0.6896551724137936, 2.862068965517242),\n",
       " (-0.3103448275862073, 2.862068965517242),\n",
       " (0.068965517241379, 2.862068965517242),\n",
       " (0.4482758620689653, 2.862068965517242),\n",
       " (0.8275862068965516, 2.862068965517242),\n",
       " (1.206896551724138, 2.862068965517242),\n",
       " (1.5862068965517242, 2.862068965517242),\n",
       " (1.9655172413793096, 2.862068965517242),\n",
       " (2.344827586206897, 2.862068965517242),\n",
       " (2.724137931034482, 2.862068965517242),\n",
       " (3.1034482758620676, 2.862068965517242),\n",
       " (3.482758620689655, 2.862068965517242),\n",
       " (3.86206896551724, 2.862068965517242),\n",
       " (4.241379310344827, 2.862068965517242),\n",
       " (4.620689655172413, 2.862068965517242),\n",
       " (5.0, 2.862068965517242),\n",
       " (-6.0, 3.379310344827587),\n",
       " (-5.620689655172414, 3.379310344827587),\n",
       " (-5.241379310344827, 3.379310344827587),\n",
       " (-4.862068965517242, 3.379310344827587),\n",
       " (-4.482758620689655, 3.379310344827587),\n",
       " (-4.103448275862069, 3.379310344827587),\n",
       " (-3.724137931034483, 3.379310344827587),\n",
       " (-3.344827586206897, 3.379310344827587),\n",
       " (-2.9655172413793105, 3.379310344827587),\n",
       " (-2.586206896551724, 3.379310344827587),\n",
       " (-2.206896551724138, 3.379310344827587),\n",
       " (-1.8275862068965516, 3.379310344827587),\n",
       " (-1.4482758620689662, 3.379310344827587),\n",
       " (-1.06896551724138, 3.379310344827587),\n",
       " (-0.6896551724137936, 3.379310344827587),\n",
       " (-0.3103448275862073, 3.379310344827587),\n",
       " (0.068965517241379, 3.379310344827587),\n",
       " (0.4482758620689653, 3.379310344827587),\n",
       " (0.8275862068965516, 3.379310344827587),\n",
       " (1.206896551724138, 3.379310344827587),\n",
       " (1.5862068965517242, 3.379310344827587),\n",
       " (1.9655172413793096, 3.379310344827587),\n",
       " (2.344827586206897, 3.379310344827587),\n",
       " (2.724137931034482, 3.379310344827587),\n",
       " (3.1034482758620676, 3.379310344827587),\n",
       " (3.482758620689655, 3.379310344827587),\n",
       " (3.86206896551724, 3.379310344827587),\n",
       " (4.241379310344827, 3.379310344827587),\n",
       " (4.620689655172413, 3.379310344827587),\n",
       " (5.0, 3.379310344827587),\n",
       " (-6.0, 3.8965517241379324),\n",
       " (-5.620689655172414, 3.8965517241379324),\n",
       " (-5.241379310344827, 3.8965517241379324),\n",
       " (-4.862068965517242, 3.8965517241379324),\n",
       " (-4.482758620689655, 3.8965517241379324),\n",
       " (-4.103448275862069, 3.8965517241379324),\n",
       " (-3.724137931034483, 3.8965517241379324),\n",
       " (-3.344827586206897, 3.8965517241379324),\n",
       " (-2.9655172413793105, 3.8965517241379324),\n",
       " (-2.586206896551724, 3.8965517241379324),\n",
       " (-2.206896551724138, 3.8965517241379324),\n",
       " (-1.8275862068965516, 3.8965517241379324),\n",
       " (-1.4482758620689662, 3.8965517241379324),\n",
       " (-1.06896551724138, 3.8965517241379324),\n",
       " (-0.6896551724137936, 3.8965517241379324),\n",
       " (-0.3103448275862073, 3.8965517241379324),\n",
       " (0.068965517241379, 3.8965517241379324),\n",
       " (0.4482758620689653, 3.8965517241379324),\n",
       " (0.8275862068965516, 3.8965517241379324),\n",
       " (1.206896551724138, 3.8965517241379324),\n",
       " (1.5862068965517242, 3.8965517241379324),\n",
       " (1.9655172413793096, 3.8965517241379324),\n",
       " (2.344827586206897, 3.8965517241379324),\n",
       " (2.724137931034482, 3.8965517241379324),\n",
       " (3.1034482758620676, 3.8965517241379324),\n",
       " (3.482758620689655, 3.8965517241379324),\n",
       " (3.86206896551724, 3.8965517241379324),\n",
       " (4.241379310344827, 3.8965517241379324),\n",
       " (4.620689655172413, 3.8965517241379324),\n",
       " (5.0, 3.8965517241379324),\n",
       " (-6.0, 4.413793103448278),\n",
       " (-5.620689655172414, 4.413793103448278),\n",
       " (-5.241379310344827, 4.413793103448278),\n",
       " (-4.862068965517242, 4.413793103448278),\n",
       " (-4.482758620689655, 4.413793103448278),\n",
       " (-4.103448275862069, 4.413793103448278),\n",
       " (-3.724137931034483, 4.413793103448278),\n",
       " (-3.344827586206897, 4.413793103448278),\n",
       " (-2.9655172413793105, 4.413793103448278),\n",
       " (-2.586206896551724, 4.413793103448278),\n",
       " (-2.206896551724138, 4.413793103448278),\n",
       " (-1.8275862068965516, 4.413793103448278),\n",
       " (-1.4482758620689662, 4.413793103448278),\n",
       " (-1.06896551724138, 4.413793103448278),\n",
       " (-0.6896551724137936, 4.413793103448278),\n",
       " (-0.3103448275862073, 4.413793103448278),\n",
       " (0.068965517241379, 4.413793103448278),\n",
       " (0.4482758620689653, 4.413793103448278),\n",
       " (0.8275862068965516, 4.413793103448278),\n",
       " (1.206896551724138, 4.413793103448278),\n",
       " (1.5862068965517242, 4.413793103448278),\n",
       " (1.9655172413793096, 4.413793103448278),\n",
       " (2.344827586206897, 4.413793103448278),\n",
       " (2.724137931034482, 4.413793103448278),\n",
       " (3.1034482758620676, 4.413793103448278),\n",
       " (3.482758620689655, 4.413793103448278),\n",
       " (3.86206896551724, 4.413793103448278),\n",
       " (4.241379310344827, 4.413793103448278),\n",
       " (4.620689655172413, 4.413793103448278),\n",
       " (5.0, 4.413793103448278),\n",
       " (-6.0, 4.931034482758621),\n",
       " (-5.620689655172414, 4.931034482758621),\n",
       " (-5.241379310344827, 4.931034482758621),\n",
       " (-4.862068965517242, 4.931034482758621),\n",
       " (-4.482758620689655, 4.931034482758621),\n",
       " (-4.103448275862069, 4.931034482758621),\n",
       " (-3.724137931034483, 4.931034482758621),\n",
       " (-3.344827586206897, 4.931034482758621),\n",
       " (-2.9655172413793105, 4.931034482758621),\n",
       " (-2.586206896551724, 4.931034482758621),\n",
       " (-2.206896551724138, 4.931034482758621),\n",
       " (-1.8275862068965516, 4.931034482758621),\n",
       " (-1.4482758620689662, 4.931034482758621),\n",
       " (-1.06896551724138, 4.931034482758621),\n",
       " (-0.6896551724137936, 4.931034482758621),\n",
       " (-0.3103448275862073, 4.931034482758621),\n",
       " (0.068965517241379, 4.931034482758621),\n",
       " (0.4482758620689653, 4.931034482758621),\n",
       " (0.8275862068965516, 4.931034482758621),\n",
       " (1.206896551724138, 4.931034482758621),\n",
       " (1.5862068965517242, 4.931034482758621),\n",
       " (1.9655172413793096, 4.931034482758621),\n",
       " (2.344827586206897, 4.931034482758621),\n",
       " (2.724137931034482, 4.931034482758621),\n",
       " (3.1034482758620676, 4.931034482758621),\n",
       " (3.482758620689655, 4.931034482758621),\n",
       " (3.86206896551724, 4.931034482758621),\n",
       " (4.241379310344827, 4.931034482758621),\n",
       " (4.620689655172413, 4.931034482758621),\n",
       " (5.0, 4.931034482758621),\n",
       " (-6.0, 5.448275862068966),\n",
       " (-5.620689655172414, 5.448275862068966),\n",
       " (-5.241379310344827, 5.448275862068966),\n",
       " (-4.862068965517242, 5.448275862068966),\n",
       " (-4.482758620689655, 5.448275862068966),\n",
       " (-4.103448275862069, 5.448275862068966),\n",
       " (-3.724137931034483, 5.448275862068966),\n",
       " (-3.344827586206897, 5.448275862068966),\n",
       " (-2.9655172413793105, 5.448275862068966),\n",
       " (-2.586206896551724, 5.448275862068966),\n",
       " (-2.206896551724138, 5.448275862068966),\n",
       " (-1.8275862068965516, 5.448275862068966),\n",
       " (-1.4482758620689662, 5.448275862068966),\n",
       " (-1.06896551724138, 5.448275862068966),\n",
       " (-0.6896551724137936, 5.448275862068966),\n",
       " (-0.3103448275862073, 5.448275862068966),\n",
       " (0.068965517241379, 5.448275862068966),\n",
       " (0.4482758620689653, 5.448275862068966),\n",
       " (0.8275862068965516, 5.448275862068966),\n",
       " (1.206896551724138, 5.448275862068966),\n",
       " (1.5862068965517242, 5.448275862068966),\n",
       " (1.9655172413793096, 5.448275862068966),\n",
       " (2.344827586206897, 5.448275862068966),\n",
       " (2.724137931034482, 5.448275862068966),\n",
       " (3.1034482758620676, 5.448275862068966),\n",
       " (3.482758620689655, 5.448275862068966),\n",
       " (3.86206896551724, 5.448275862068966),\n",
       " (4.241379310344827, 5.448275862068966),\n",
       " (4.620689655172413, 5.448275862068966),\n",
       " (5.0, 5.448275862068966),\n",
       " (-6.0, 5.965517241379311),\n",
       " (-5.620689655172414, 5.965517241379311),\n",
       " (-5.241379310344827, 5.965517241379311),\n",
       " (-4.862068965517242, 5.965517241379311),\n",
       " (-4.482758620689655, 5.965517241379311),\n",
       " (-4.103448275862069, 5.965517241379311),\n",
       " (-3.724137931034483, 5.965517241379311),\n",
       " (-3.344827586206897, 5.965517241379311),\n",
       " (-2.9655172413793105, 5.965517241379311),\n",
       " (-2.586206896551724, 5.965517241379311),\n",
       " (-2.206896551724138, 5.965517241379311),\n",
       " (-1.8275862068965516, 5.965517241379311),\n",
       " (-1.4482758620689662, 5.965517241379311),\n",
       " (-1.06896551724138, 5.965517241379311),\n",
       " (-0.6896551724137936, 5.965517241379311),\n",
       " (-0.3103448275862073, 5.965517241379311),\n",
       " (0.068965517241379, 5.965517241379311),\n",
       " (0.4482758620689653, 5.965517241379311),\n",
       " (0.8275862068965516, 5.965517241379311),\n",
       " (1.206896551724138, 5.965517241379311),\n",
       " (1.5862068965517242, 5.965517241379311),\n",
       " (1.9655172413793096, 5.965517241379311),\n",
       " (2.344827586206897, 5.965517241379311),\n",
       " (2.724137931034482, 5.965517241379311),\n",
       " (3.1034482758620676, 5.965517241379311),\n",
       " (3.482758620689655, 5.965517241379311),\n",
       " (3.86206896551724, 5.965517241379311),\n",
       " (4.241379310344827, 5.965517241379311),\n",
       " (4.620689655172413, 5.965517241379311),\n",
       " (5.0, 5.965517241379311),\n",
       " (-6.0, 6.482758620689657),\n",
       " (-5.620689655172414, 6.482758620689657),\n",
       " (-5.241379310344827, 6.482758620689657),\n",
       " (-4.862068965517242, 6.482758620689657),\n",
       " (-4.482758620689655, 6.482758620689657),\n",
       " (-4.103448275862069, 6.482758620689657),\n",
       " (-3.724137931034483, 6.482758620689657),\n",
       " (-3.344827586206897, 6.482758620689657),\n",
       " (-2.9655172413793105, 6.482758620689657),\n",
       " (-2.586206896551724, 6.482758620689657),\n",
       " (-2.206896551724138, 6.482758620689657),\n",
       " (-1.8275862068965516, 6.482758620689657),\n",
       " (-1.4482758620689662, 6.482758620689657),\n",
       " (-1.06896551724138, 6.482758620689657),\n",
       " (-0.6896551724137936, 6.482758620689657),\n",
       " (-0.3103448275862073, 6.482758620689657),\n",
       " (0.068965517241379, 6.482758620689657),\n",
       " (0.4482758620689653, 6.482758620689657),\n",
       " (0.8275862068965516, 6.482758620689657),\n",
       " (1.206896551724138, 6.482758620689657),\n",
       " (1.5862068965517242, 6.482758620689657),\n",
       " (1.9655172413793096, 6.482758620689657),\n",
       " (2.344827586206897, 6.482758620689657),\n",
       " (2.724137931034482, 6.482758620689657),\n",
       " (3.1034482758620676, 6.482758620689657),\n",
       " (3.482758620689655, 6.482758620689657),\n",
       " (3.86206896551724, 6.482758620689657),\n",
       " (4.241379310344827, 6.482758620689657),\n",
       " (4.620689655172413, 6.482758620689657),\n",
       " (5.0, 6.482758620689657),\n",
       " (-6.0, 7.0),\n",
       " (-5.620689655172414, 7.0),\n",
       " (-5.241379310344827, 7.0),\n",
       " (-4.862068965517242, 7.0),\n",
       " (-4.482758620689655, 7.0),\n",
       " (-4.103448275862069, 7.0),\n",
       " (-3.724137931034483, 7.0),\n",
       " (-3.344827586206897, 7.0),\n",
       " (-2.9655172413793105, 7.0),\n",
       " (-2.586206896551724, 7.0),\n",
       " (-2.206896551724138, 7.0),\n",
       " (-1.8275862068965516, 7.0),\n",
       " (-1.4482758620689662, 7.0),\n",
       " (-1.06896551724138, 7.0),\n",
       " (-0.6896551724137936, 7.0),\n",
       " (-0.3103448275862073, 7.0),\n",
       " (0.068965517241379, 7.0),\n",
       " (0.4482758620689653, 7.0),\n",
       " (0.8275862068965516, 7.0),\n",
       " (1.206896551724138, 7.0),\n",
       " (1.5862068965517242, 7.0),\n",
       " (1.9655172413793096, 7.0),\n",
       " (2.344827586206897, 7.0),\n",
       " (2.724137931034482, 7.0),\n",
       " (3.1034482758620676, 7.0),\n",
       " (3.482758620689655, 7.0),\n",
       " (3.86206896551724, 7.0),\n",
       " (4.241379310344827, 7.0),\n",
       " (4.620689655172413, 7.0),\n",
       " (5.0, 7.0)]"
      ]
     },
     "execution_count": 301,
     "metadata": {},
     "output_type": "execute_result"
    }
   ],
   "source": [
    "list(zip(X1,Y1))"
   ]
  },
  {
   "cell_type": "code",
   "execution_count": 214,
   "metadata": {
    "collapsed": true
   },
   "outputs": [],
   "source": [
    "Z = clf.predict(list(zip(X,Y)))"
   ]
  },
  {
   "cell_type": "code",
   "execution_count": 215,
   "metadata": {
    "collapsed": false
   },
   "outputs": [
    {
     "data": {
      "text/plain": [
       "<matplotlib.collections.PathCollection at 0x121465630>"
      ]
     },
     "execution_count": 215,
     "metadata": {},
     "output_type": "execute_result"
    },
    {
     "data": {
      "image/png": "[encoded data removed]",
      "text/plain": [
       "<Figure size 432x288 with 1 Axes>"
      ]
     },
     "metadata": {},
     "output_type": "display_data"
    }
   ],
   "source": [
    "plt.scatter(X, Y, s=50, c=Z)"
   ]
  },
  {
   "cell_type": "code",
   "execution_count": 224,
   "metadata": {
    "collapsed": true
   },
   "outputs": [],
   "source": [
    "iris = load_iris()"
   ]
  },
  {
   "cell_type": "code",
   "execution_count": 225,
   "metadata": {
    "collapsed": false,
    "scrolled": true
   },
   "outputs": [
    {
     "name": "stdout",
     "output_type": "stream",
     "text": [
      "Iris Plants Database\n",
      "====================\n",
      "\n",
      "Notes\n",
      "-----\n",
      "Data Set Characteristics:\n",
      "    :Number of Instances: 150 (50 in each of three classes)\n",
      "    :Number of Attributes: 4 numeric, predictive attributes and the class\n",
      "    :Attribute Information:\n",
      "        - sepal length in cm\n",
      "        - sepal width in cm\n",
      "        - petal length in cm\n",
      "        - petal width in cm\n",
      "        - class:\n",
      "                - Iris-Setosa\n",
      "                - Iris-Versicolour\n",
      "                - Iris-Virginica\n",
      "    :Summary Statistics:\n",
      "\n",
      "    ============== ==== ==== ======= ===== ====================\n",
      "                    Min  Max   Mean    SD   Class Correlation\n",
      "    ============== ==== ==== ======= ===== ====================\n",
      "    sepal length:   4.3  7.9   5.84   0.83    0.7826\n",
      "    sepal width:    2.0  4.4   3.05   0.43   -0.4194\n",
      "    petal length:   1.0  6.9   3.76   1.76    0.9490  (high!)\n",
      "    petal width:    0.1  2.5   1.20  0.76     0.9565  (high!)\n",
      "    ============== ==== ==== ======= ===== ====================\n",
      "\n",
      "    :Missing Attribute Values: None\n",
      "    :Class Distribution: 33.3% for each of 3 classes.\n",
      "    :Creator: R.A. Fisher\n",
      "    :Donor: Michael Marshall (MARSHALL%PLU@io.arc.nasa.gov)\n",
      "    :Date: July, 1988\n",
      "\n",
      "This is a copy of UCI ML iris datasets.\n",
      "http://archive.ics.uci.edu/ml/datasets/Iris\n",
      "\n",
      "The famous Iris database, first used by Sir R.A Fisher\n",
      "\n",
      "This is perhaps the best known database to be found in the\n",
      "pattern recognition literature.  Fisher's paper is a classic in the field and\n",
      "is referenced frequently to this day.  (See Duda & Hart, for example.)  The\n",
      "data set contains 3 classes of 50 instances each, where each class refers to a\n",
      "type of iris plant.  One class is linearly separable from the other 2; the\n",
      "latter are NOT linearly separable from each other.\n",
      "\n",
      "References\n",
      "----------\n",
      "   - Fisher,R.A. \"The use of multiple measurements in taxonomic problems\"\n",
      "     Annual Eugenics, 7, Part II, 179-188 (1936); also in \"Contributions to\n",
      "     Mathematical Statistics\" (John Wiley, NY, 1950).\n",
      "   - Duda,R.O., & Hart,P.E. (1973) Pattern Classification and Scene Analysis.\n",
      "     (Q327.D83) John Wiley & Sons.  ISBN 0-471-22361-1.  See page 218.\n",
      "   - Dasarathy, B.V. (1980) \"Nosing Around the Neighborhood: A New System\n",
      "     Structure and Classification Rule for Recognition in Partially Exposed\n",
      "     Environments\".  IEEE Transactions on Pattern Analysis and Machine\n",
      "     Intelligence, Vol. PAMI-2, No. 1, 67-71.\n",
      "   - Gates, G.W. (1972) \"The Reduced Nearest Neighbor Rule\".  IEEE Transactions\n",
      "     on Information Theory, May 1972, 431-433.\n",
      "   - See also: 1988 MLC Proceedings, 54-64.  Cheeseman et al\"s AUTOCLASS II\n",
      "     conceptual clustering system finds 3 classes in the data.\n",
      "   - Many, many more ...\n",
      "\n"
     ]
    }
   ],
   "source": [
    "print(iris.DESCR)"
   ]
  },
  {
   "cell_type": "code",
   "execution_count": 306,
   "metadata": {
    "collapsed": true
   },
   "outputs": [],
   "source": [
    "X = iris.data"
   ]
  },
  {
   "cell_type": "code",
   "execution_count": 307,
   "metadata": {
    "collapsed": true
   },
   "outputs": [],
   "source": [
    "Y = iris.target"
   ]
  },
  {
   "cell_type": "code",
   "execution_count": 312,
   "metadata": {
    "collapsed": true
   },
   "outputs": [],
   "source": [
    "x_data = X[:, 1:3]"
   ]
  },
  {
   "cell_type": "code",
   "execution_count": 313,
   "metadata": {
    "collapsed": false
   },
   "outputs": [
    {
     "data": {
      "text/plain": [
       "array([[3.5, 1.4],\n",
       "       [3. , 1.4],\n",
       "       [3.2, 1.3],\n",
       "       [3.1, 1.5],\n",
       "       [3.6, 1.4],\n",
       "       [3.9, 1.7],\n",
       "       [3.4, 1.4],\n",
       "       [3.4, 1.5],\n",
       "       [2.9, 1.4],\n",
       "       [3.1, 1.5],\n",
       "       [3.7, 1.5],\n",
       "       [3.4, 1.6],\n",
       "       [3. , 1.4],\n",
       "       [3. , 1.1],\n",
       "       [4. , 1.2],\n",
       "       [4.4, 1.5],\n",
       "       [3.9, 1.3],\n",
       "       [3.5, 1.4],\n",
       "       [3.8, 1.7],\n",
       "       [3.8, 1.5],\n",
       "       [3.4, 1.7],\n",
       "       [3.7, 1.5],\n",
       "       [3.6, 1. ],\n",
       "       [3.3, 1.7],\n",
       "       [3.4, 1.9],\n",
       "       [3. , 1.6],\n",
       "       [3.4, 1.6],\n",
       "       [3.5, 1.5],\n",
       "       [3.4, 1.4],\n",
       "       [3.2, 1.6],\n",
       "       [3.1, 1.6],\n",
       "       [3.4, 1.5],\n",
       "       [4.1, 1.5],\n",
       "       [4.2, 1.4],\n",
       "       [3.1, 1.5],\n",
       "       [3.2, 1.2],\n",
       "       [3.5, 1.3],\n",
       "       [3.1, 1.5],\n",
       "       [3. , 1.3],\n",
       "       [3.4, 1.5],\n",
       "       [3.5, 1.3],\n",
       "       [2.3, 1.3],\n",
       "       [3.2, 1.3],\n",
       "       [3.5, 1.6],\n",
       "       [3.8, 1.9],\n",
       "       [3. , 1.4],\n",
       "       [3.8, 1.6],\n",
       "       [3.2, 1.4],\n",
       "       [3.7, 1.5],\n",
       "       [3.3, 1.4],\n",
       "       [3.2, 4.7],\n",
       "       [3.2, 4.5],\n",
       "       [3.1, 4.9],\n",
       "       [2.3, 4. ],\n",
       "       [2.8, 4.6],\n",
       "       [2.8, 4.5],\n",
       "       [3.3, 4.7],\n",
       "       [2.4, 3.3],\n",
       "       [2.9, 4.6],\n",
       "       [2.7, 3.9],\n",
       "       [2. , 3.5],\n",
       "       [3. , 4.2],\n",
       "       [2.2, 4. ],\n",
       "       [2.9, 4.7],\n",
       "       [2.9, 3.6],\n",
       "       [3.1, 4.4],\n",
       "       [3. , 4.5],\n",
       "       [2.7, 4.1],\n",
       "       [2.2, 4.5],\n",
       "       [2.5, 3.9],\n",
       "       [3.2, 4.8],\n",
       "       [2.8, 4. ],\n",
       "       [2.5, 4.9],\n",
       "       [2.8, 4.7],\n",
       "       [2.9, 4.3],\n",
       "       [3. , 4.4],\n",
       "       [2.8, 4.8],\n",
       "       [3. , 5. ],\n",
       "       [2.9, 4.5],\n",
       "       [2.6, 3.5],\n",
       "       [2.4, 3.8],\n",
       "       [2.4, 3.7],\n",
       "       [2.7, 3.9],\n",
       "       [2.7, 5.1],\n",
       "       [3. , 4.5],\n",
       "       [3.4, 4.5],\n",
       "       [3.1, 4.7],\n",
       "       [2.3, 4.4],\n",
       "       [3. , 4.1],\n",
       "       [2.5, 4. ],\n",
       "       [2.6, 4.4],\n",
       "       [3. , 4.6],\n",
       "       [2.6, 4. ],\n",
       "       [2.3, 3.3],\n",
       "       [2.7, 4.2],\n",
       "       [3. , 4.2],\n",
       "       [2.9, 4.2],\n",
       "       [2.9, 4.3],\n",
       "       [2.5, 3. ],\n",
       "       [2.8, 4.1],\n",
       "       [3.3, 6. ],\n",
       "       [2.7, 5.1],\n",
       "       [3. , 5.9],\n",
       "       [2.9, 5.6],\n",
       "       [3. , 5.8],\n",
       "       [3. , 6.6],\n",
       "       [2.5, 4.5],\n",
       "       [2.9, 6.3],\n",
       "       [2.5, 5.8],\n",
       "       [3.6, 6.1],\n",
       "       [3.2, 5.1],\n",
       "       [2.7, 5.3],\n",
       "       [3. , 5.5],\n",
       "       [2.5, 5. ],\n",
       "       [2.8, 5.1],\n",
       "       [3.2, 5.3],\n",
       "       [3. , 5.5],\n",
       "       [3.8, 6.7],\n",
       "       [2.6, 6.9],\n",
       "       [2.2, 5. ],\n",
       "       [3.2, 5.7],\n",
       "       [2.8, 4.9],\n",
       "       [2.8, 6.7],\n",
       "       [2.7, 4.9],\n",
       "       [3.3, 5.7],\n",
       "       [3.2, 6. ],\n",
       "       [2.8, 4.8],\n",
       "       [3. , 4.9],\n",
       "       [2.8, 5.6],\n",
       "       [3. , 5.8],\n",
       "       [2.8, 6.1],\n",
       "       [3.8, 6.4],\n",
       "       [2.8, 5.6],\n",
       "       [2.8, 5.1],\n",
       "       [2.6, 5.6],\n",
       "       [3. , 6.1],\n",
       "       [3.4, 5.6],\n",
       "       [3.1, 5.5],\n",
       "       [3. , 4.8],\n",
       "       [3.1, 5.4],\n",
       "       [3.1, 5.6],\n",
       "       [3.1, 5.1],\n",
       "       [2.7, 5.1],\n",
       "       [3.2, 5.9],\n",
       "       [3.3, 5.7],\n",
       "       [3. , 5.2],\n",
       "       [2.5, 5. ],\n",
       "       [3. , 5.2],\n",
       "       [3.4, 5.4],\n",
       "       [3. , 5.1]])"
      ]
     },
     "execution_count": 313,
     "metadata": {},
     "output_type": "execute_result"
    }
   ],
   "source": [
    "x_data"
   ]
  },
  {
   "cell_type": "code",
   "execution_count": 314,
   "metadata": {
    "collapsed": true
   },
   "outputs": [],
   "source": [
    "x_train, x_test, y_train, y_test = train_test_split(x_data, Y,\n",
    "                                                   test_size=0.2,\n",
    "                                                   random_state=87)"
   ]
  },
  {
   "cell_type": "code",
   "execution_count": 317,
   "metadata": {
    "collapsed": false
   },
   "outputs": [
    {
     "data": {
      "text/plain": [
       "<matplotlib.collections.PathCollection at 0x127c1bdd8>"
      ]
     },
     "execution_count": 317,
     "metadata": {},
     "output_type": "execute_result"
    },
    {
     "data": {
      "image/png": "[encoded data removed]",
      "text/plain": [
       "<Figure size 432x288 with 1 Axes>"
      ]
     },
     "metadata": {},
     "output_type": "display_data"
    }
   ],
   "source": [
    "plt.scatter(x_train[:,0], x_train[:,1], c=y_train)"
   ]
  },
  {
   "cell_type": "code",
   "execution_count": 318,
   "metadata": {
    "collapsed": true
   },
   "outputs": [],
   "source": [
    "clf = SVC()"
   ]
  },
  {
   "cell_type": "code",
   "execution_count": 319,
   "metadata": {
    "collapsed": false
   },
   "outputs": [
    {
     "data": {
      "text/plain": [
       "SVC(C=1.0, cache_size=200, class_weight=None, coef0=0.0,\n",
       "  decision_function_shape='ovr', degree=3, gamma='auto', kernel='rbf',\n",
       "  max_iter=-1, probability=False, random_state=None, shrinking=True,\n",
       "  tol=0.001, verbose=False)"
      ]
     },
     "execution_count": 319,
     "metadata": {},
     "output_type": "execute_result"
    }
   ],
   "source": [
    "clf.fit(x_train, y_train)"
   ]
  },
  {
   "cell_type": "code",
   "execution_count": 320,
   "metadata": {
    "collapsed": true
   },
   "outputs": [],
   "source": [
    "y_predict = clf.predict(x_test)"
   ]
  },
  {
   "cell_type": "code",
   "execution_count": 321,
   "metadata": {
    "collapsed": false
   },
   "outputs": [
    {
     "data": {
      "text/plain": [
       "<matplotlib.collections.PathCollection at 0x127ed05f8>"
      ]
     },
     "execution_count": 321,
     "metadata": {},
     "output_type": "execute_result"
    },
    {
     "data": {
      "image/png": "[encoded data removed]",
      "text/plain": [
       "<Figure size 432x288 with 1 Axes>"
      ]
     },
     "metadata": {},
     "output_type": "display_data"
    }
   ],
   "source": [
    "plt.scatter(x_test[:,0], x_test[:,1], c=y_predict)"
   ]
  },
  {
   "cell_type": "code",
   "execution_count": 322,
   "metadata": {
    "collapsed": false
   },
   "outputs": [
    {
     "data": {
      "text/plain": [
       "<matplotlib.collections.PathCollection at 0x127c65eb8>"
      ]
     },
     "execution_count": 322,
     "metadata": {},
     "output_type": "execute_result"
    },
    {
     "data": {
      "image/png": "[encoded data removed]",
      "text/plain": [
       "<Figure size 432x288 with 1 Axes>"
      ]
     },
     "metadata": {},
     "output_type": "display_data"
    }
   ],
   "source": [
    "plt.scatter(x_test[:,0], x_test[:,1], c=y_predict - y_test)"
   ]
  },
  {
   "cell_type": "code",
   "execution_count": 323,
   "metadata": {
    "collapsed": true
   },
   "outputs": [],
   "source": [
    "from sklearn.metrics import accuracy_score"
   ]
  },
  {
   "cell_type": "code",
   "execution_count": 324,
   "metadata": {
    "collapsed": false
   },
   "outputs": [
    {
     "data": {
      "text/plain": [
       "0.9333333333333333"
      ]
     },
     "execution_count": 324,
     "metadata": {},
     "output_type": "execute_result"
    }
   ],
   "source": [
    "accuracy_score(y_test, y_predict)"
   ]
  },
  {
   "cell_type": "code",
   "execution_count": 325,
   "metadata": {
    "collapsed": true
   },
   "outputs": [],
   "source": [
    "from sklearn.metrics import confusion_matrix"
   ]
  },
  {
   "cell_type": "code",
   "execution_count": 326,
   "metadata": {
    "collapsed": false
   },
   "outputs": [
    {
     "data": {
      "text/plain": [
       "array([[13,  0,  0],\n",
       "       [ 0,  8,  1],\n",
       "       [ 0,  1,  7]])"
      ]
     },
     "execution_count": 326,
     "metadata": {},
     "output_type": "execute_result"
    }
   ],
   "source": [
    "confusion_matrix(y_test, y_predict)"
   ]
  },
  {
   "cell_type": "code",
   "execution_count": 327,
   "metadata": {
    "collapsed": true
   },
   "outputs": [],
   "source": [
    "from sklearn.metrics import classification_report"
   ]
  },
  {
   "cell_type": "code",
   "execution_count": 330,
   "metadata": {
    "collapsed": true
   },
   "outputs": [],
   "source": [
    "class_names = ['class 0', 'class 1', 'class 2']"
   ]
  },
  {
   "cell_type": "code",
   "execution_count": 331,
   "metadata": {
    "collapsed": false
   },
   "outputs": [
    {
     "name": "stdout",
     "output_type": "stream",
     "text": [
      "             precision    recall  f1-score   support\n",
      "\n",
      "    class 0       1.00      1.00      1.00        13\n",
      "    class 1       0.89      0.89      0.89         9\n",
      "    class 2       0.88      0.88      0.88         8\n",
      "\n",
      "avg / total       0.93      0.93      0.93        30\n",
      "\n"
     ]
    }
   ],
   "source": [
    "print(classification_report(y_test, y_predict, target_names=class_names))"
   ]
  },
  {
   "cell_type": "code",
   "execution_count": 355,
   "metadata": {
    "collapsed": true
   },
   "outputs": [],
   "source": [
    "X, Y = np.meshgrid(np.arange(1,5,0.2), np.arange(0,8,0.2))"
   ]
  },
  {
   "cell_type": "code",
   "execution_count": 356,
   "metadata": {
    "collapsed": true
   },
   "outputs": [],
   "source": [
    "X1 = X.ravel()\n",
    "Y1 = Y.ravel()"
   ]
  },
  {
   "cell_type": "code",
   "execution_count": 385,
   "metadata": {
    "collapsed": true
   },
   "outputs": [],
   "source": [
    "Z = clf.predict(list(zip(X1, Y1)))"
   ]
  },
  {
   "cell_type": "code",
   "execution_count": 386,
   "metadata": {
    "collapsed": false,
    "scrolled": true
   },
   "outputs": [
    {
     "data": {
      "text/plain": [
       "array([0, 0, 0, 0, 0, 0, 0, 0, 0, 0, 0, 0, 0, 0, 0, 0, 0, 0, 0, 0, 0, 0,\n",
       "       0, 0, 0, 0, 0, 0, 0, 0, 0, 0, 0, 0, 0, 0, 0, 0, 0, 0, 0, 0, 0, 0,\n",
       "       0, 0, 0, 0, 0, 0, 0, 0, 0, 0, 0, 0, 0, 0, 0, 0, 0, 0, 0, 0, 0, 0,\n",
       "       0, 0, 0, 0, 0, 0, 0, 0, 0, 0, 0, 0, 0, 0, 0, 0, 0, 0, 0, 0, 0, 0,\n",
       "       0, 0, 0, 0, 0, 0, 0, 0, 0, 0, 0, 0, 0, 0, 0, 0, 0, 0, 0, 0, 0, 0,\n",
       "       0, 0, 0, 0, 0, 0, 0, 0, 0, 0, 0, 0, 0, 0, 0, 0, 0, 0, 0, 0, 0, 0,\n",
       "       0, 0, 0, 0, 0, 0, 0, 0, 0, 0, 0, 0, 0, 0, 0, 0, 0, 0, 0, 0, 0, 0,\n",
       "       0, 0, 0, 0, 0, 0, 0, 0, 0, 0, 0, 0, 0, 0, 0, 0, 0, 0, 0, 0, 0, 0,\n",
       "       0, 0, 0, 0, 0, 0, 0, 0, 0, 0, 0, 0, 0, 0, 0, 0, 0, 0, 0, 0, 0, 0,\n",
       "       0, 0, 0, 0, 0, 0, 0, 0, 0, 0, 0, 0, 0, 0, 0, 0, 0, 0, 0, 0, 0, 0,\n",
       "       0, 0, 0, 0, 0, 0, 0, 0, 0, 0, 0, 0, 0, 0, 0, 0, 0, 0, 0, 0, 0, 0,\n",
       "       1, 1, 1, 1, 1, 1, 0, 0, 0, 0, 0, 0, 0, 0, 0, 0, 0, 0, 0, 1, 1, 1,\n",
       "       1, 1, 1, 1, 1, 1, 1, 0, 0, 0, 0, 0, 0, 0, 0, 0, 1, 1, 1, 1, 1, 1,\n",
       "       1, 1, 1, 1, 1, 1, 1, 0, 0, 0, 0, 0, 0, 0, 1, 1, 1, 1, 1, 1, 1, 1,\n",
       "       1, 1, 1, 1, 1, 1, 1, 0, 0, 0, 0, 0, 1, 1, 1, 1, 1, 1, 1, 1, 1, 1,\n",
       "       1, 1, 1, 1, 1, 1, 1, 0, 0, 0, 1, 1, 1, 1, 1, 1, 1, 1, 1, 1, 1, 1,\n",
       "       1, 1, 1, 1, 1, 1, 1, 0, 1, 1, 1, 1, 1, 1, 1, 1, 1, 1, 1, 1, 1, 1,\n",
       "       1, 1, 1, 1, 1, 1, 1, 1, 1, 1, 1, 1, 1, 1, 1, 1, 1, 1, 1, 1, 1, 1,\n",
       "       1, 1, 1, 1, 1, 1, 1, 1, 1, 1, 1, 1, 1, 1, 1, 1, 1, 1, 1, 1, 1, 1,\n",
       "       1, 1, 2, 2, 1, 1, 1, 1, 1, 1, 1, 1, 1, 1, 1, 1, 1, 1, 1, 1, 1, 1,\n",
       "       2, 2, 2, 2, 1, 1, 1, 1, 1, 1, 1, 1, 1, 1, 1, 1, 1, 1, 1, 1, 2, 2,\n",
       "       2, 2, 2, 2, 1, 1, 1, 1, 1, 1, 1, 1, 1, 1, 1, 1, 1, 1, 2, 2, 2, 2,\n",
       "       2, 2, 2, 2, 2, 1, 1, 1, 1, 1, 1, 1, 1, 1, 1, 1, 2, 2, 2, 2, 2, 2,\n",
       "       2, 2, 2, 2, 2, 2, 2, 2, 1, 1, 1, 1, 2, 2, 2, 2, 2, 2, 2, 2, 2, 2,\n",
       "       2, 2, 2, 2, 2, 2, 2, 2, 2, 2, 2, 2, 2, 2, 2, 2, 2, 2, 2, 2, 2, 2,\n",
       "       2, 2, 2, 2, 2, 2, 2, 2, 2, 2, 2, 2, 2, 2, 2, 2, 2, 2, 2, 2, 2, 2,\n",
       "       2, 2, 2, 2, 2, 2, 2, 2, 2, 2, 2, 2, 2, 2, 2, 2, 2, 2, 2, 2, 2, 2,\n",
       "       2, 2, 2, 2, 2, 2, 2, 2, 2, 2, 2, 2, 2, 2, 2, 2, 2, 2, 2, 2, 2, 2,\n",
       "       2, 2, 2, 2, 2, 2, 2, 2, 2, 2, 2, 2, 2, 2, 2, 2, 2, 2, 2, 2, 2, 2,\n",
       "       2, 2, 2, 2, 2, 2, 2, 2, 2, 2, 2, 2, 2, 2, 2, 2, 2, 2, 2, 2, 2, 2,\n",
       "       2, 2, 2, 2, 2, 2, 2, 2, 2, 2, 2, 2, 2, 2, 2, 2, 2, 2, 2, 2, 2, 2,\n",
       "       2, 2, 2, 2, 2, 2, 2, 2, 2, 2, 2, 2, 2, 2, 2, 2, 2, 2, 2, 2, 2, 2,\n",
       "       2, 2, 2, 2, 2, 2, 2, 2, 2, 2, 2, 2, 2, 2, 2, 2, 2, 2, 2, 2, 2, 2,\n",
       "       2, 2, 2, 2, 2, 2, 2, 2, 2, 2, 2, 2, 2, 2, 2, 2, 2, 2, 2, 2, 2, 2,\n",
       "       2, 2, 2, 2, 2, 2, 2, 2, 2, 2, 2, 2, 2, 2, 2, 2, 2, 2, 2, 2, 2, 2,\n",
       "       2, 2, 2, 2, 2, 2, 2, 2, 2, 2, 2, 2, 2, 2, 2, 2, 2, 2, 2, 2, 2, 2,\n",
       "       2, 2, 2, 2, 2, 2, 2, 2])"
      ]
     },
     "execution_count": 386,
     "metadata": {},
     "output_type": "execute_result"
    }
   ],
   "source": [
    "Z"
   ]
  },
  {
   "cell_type": "code",
   "execution_count": 387,
   "metadata": {
    "collapsed": false
   },
   "outputs": [
    {
     "data": {
      "text/plain": [
       "<matplotlib.collections.PathCollection at 0x127ee2208>"
      ]
     },
     "execution_count": 387,
     "metadata": {},
     "output_type": "execute_result"
    },
    {
     "data": {
      "image/png": "[encoded data removed]",
      "text/plain": [
       "<Figure size 432x288 with 1 Axes>"
      ]
     },
     "metadata": {},
     "output_type": "display_data"
    }
   ],
   "source": [
    "plt.scatter(X1, Y1, c = Z)"
   ]
  },
  {
   "cell_type": "code",
   "execution_count": 388,
   "metadata": {
    "collapsed": false
   },
   "outputs": [
    {
     "data": {
      "text/plain": [
       "(800,)"
      ]
     },
     "execution_count": 388,
     "metadata": {},
     "output_type": "execute_result"
    }
   ],
   "source": [
    "Z.shape"
   ]
  },
  {
   "cell_type": "code",
   "execution_count": 389,
   "metadata": {
    "collapsed": true
   },
   "outputs": [],
   "source": [
    "Z1 = Z.reshape(X.shape)"
   ]
  },
  {
   "cell_type": "code",
   "execution_count": 390,
   "metadata": {
    "collapsed": false
   },
   "outputs": [
    {
     "data": {
      "text/plain": [
       "(40, 20)"
      ]
     },
     "execution_count": 390,
     "metadata": {},
     "output_type": "execute_result"
    }
   ],
   "source": [
    "Z1.shape"
   ]
  },
  {
   "cell_type": "code",
   "execution_count": 391,
   "metadata": {
    "collapsed": false
   },
   "outputs": [
    {
     "data": {
      "text/plain": [
       "<matplotlib.contour.QuadContourSet at 0x1296a07f0>"
      ]
     },
     "execution_count": 391,
     "metadata": {},
     "output_type": "execute_result"
    },
    {
     "data": {
      "image/png": "[encoded data removed]",
      "text/plain": [
       "<Figure size 432x288 with 1 Axes>"
      ]
     },
     "metadata": {},
     "output_type": "display_data"
    }
   ],
   "source": [
    "plt.contourf(X, Y, Z1, cmap=plt.cm.coolwarm, alpha=0.8)"
   ]
  },
  {
   "cell_type": "code",
   "execution_count": 392,
   "metadata": {
    "collapsed": false
   },
   "outputs": [
    {
     "data": {
      "text/plain": [
       "<matplotlib.collections.PathCollection at 0x129620dd8>"
      ]
     },
     "execution_count": 392,
     "metadata": {},
     "output_type": "execute_result"
    },
    {
     "data": {
      "image/png": "[encoded data removed]",
      "text/plain": [
       "<Figure size 432x288 with 1 Axes>"
      ]
     },
     "metadata": {},
     "output_type": "display_data"
    }
   ],
   "source": [
    "plt.contourf(X, Y, Z1, cmap=plt.cm.RdGy, alpha=0.8)\n",
    "plt.scatter(x_train[:,0], x_train[:,1], c=y_train)"
   ]
  },
  {
   "cell_type": "markdown",
   "metadata": {},
   "source": [
    "### K-Mean"
   ]
  },
  {
   "cell_type": "code",
   "execution_count": 372,
   "metadata": {
    "collapsed": true
   },
   "outputs": [],
   "source": [
    "clf3 = KMeans(n_clusters=3)"
   ]
  },
  {
   "cell_type": "code",
   "execution_count": 373,
   "metadata": {
    "collapsed": false
   },
   "outputs": [
    {
     "data": {
      "text/plain": [
       "KMeans(algorithm='auto', copy_x=True, init='k-means++', max_iter=300,\n",
       "    n_clusters=3, n_init=10, n_jobs=1, precompute_distances='auto',\n",
       "    random_state=None, tol=0.0001, verbose=0)"
      ]
     },
     "execution_count": 373,
     "metadata": {},
     "output_type": "execute_result"
    }
   ],
   "source": [
    "clf3.fit(x_train)"
   ]
  },
  {
   "cell_type": "code",
   "execution_count": 374,
   "metadata": {
    "collapsed": false
   },
   "outputs": [
    {
     "data": {
      "text/plain": [
       "array([1, 2, 1, 0, 2, 2, 1, 0, 2, 0, 0, 2, 0, 2, 0, 2, 1, 1, 0, 1, 2, 2,\n",
       "       0, 1, 2, 2, 1, 0, 0, 2, 2, 0, 2, 1, 2, 2, 1, 2, 0, 0, 2, 2, 1, 0,\n",
       "       1, 0, 1, 1, 2, 2, 1, 2, 1, 1, 0, 2, 0, 0, 2, 2, 2, 1, 0, 1, 1, 2,\n",
       "       1, 2, 2, 2, 0, 0, 1, 0, 0, 1, 1, 2, 1, 1, 1, 2, 2, 1, 0, 1, 2, 2,\n",
       "       2, 1, 1, 0, 2, 0, 2, 2, 0, 1, 0, 2, 2, 0, 0, 2, 0, 2, 2, 1, 1, 1,\n",
       "       0, 2, 2, 1, 2, 2, 0, 1, 0, 0], dtype=int32)"
      ]
     },
     "execution_count": 374,
     "metadata": {},
     "output_type": "execute_result"
    }
   ],
   "source": [
    "clf3.labels_"
   ]
  },
  {
   "cell_type": "code",
   "execution_count": 376,
   "metadata": {
    "collapsed": false
   },
   "outputs": [
    {
     "data": {
      "text/plain": [
       "<matplotlib.collections.PathCollection at 0x127f92978>"
      ]
     },
     "execution_count": 376,
     "metadata": {},
     "output_type": "execute_result"
    },
    {
     "data": {
      "image/png": "[encoded data removed]",
      "text/plain": [
       "<Figure size 432x288 with 1 Axes>"
      ]
     },
     "metadata": {},
     "output_type": "display_data"
    }
   ],
   "source": [
    "plt.scatter(x_train[:,0], x_train[:,1], c=clf3.labels_)"
   ]
  },
  {
   "cell_type": "code",
   "execution_count": 380,
   "metadata": {
    "collapsed": false
   },
   "outputs": [
    {
     "data": {
      "text/plain": [
       "<matplotlib.collections.PathCollection at 0x129542208>"
      ]
     },
     "execution_count": 380,
     "metadata": {},
     "output_type": "execute_result"
    },
    {
     "data": {
      "image/png": "[encoded data removed]",
      "text/plain": [
       "<Figure size 432x288 with 1 Axes>"
      ]
     },
     "metadata": {},
     "output_type": "display_data"
    }
   ],
   "source": [
    "plt.scatter(x_train[:,0], x_train[:,1], c = y_train)"
   ]
  },
  {
   "cell_type": "code",
   "execution_count": 377,
   "metadata": {
    "collapsed": true
   },
   "outputs": [],
   "source": [
    "y_predict = clf3.predict(x_test)"
   ]
  },
  {
   "cell_type": "code",
   "execution_count": 381,
   "metadata": {
    "collapsed": false
   },
   "outputs": [
    {
     "data": {
      "text/plain": [
       "<matplotlib.collections.PathCollection at 0x1284112e8>"
      ]
     },
     "execution_count": 381,
     "metadata": {},
     "output_type": "execute_result"
    },
    {
     "data": {
      "image/png": "[encoded data removed]",
      "text/plain": [
       "<Figure size 432x288 with 1 Axes>"
      ]
     },
     "metadata": {},
     "output_type": "display_data"
    }
   ],
   "source": [
    "plt.scatter(x_test[:,0], x_test[:,1], c=y_predict)"
   ]
  },
  {
   "cell_type": "code",
   "execution_count": 382,
   "metadata": {
    "collapsed": false
   },
   "outputs": [
    {
     "data": {
      "text/plain": [
       "<matplotlib.collections.PathCollection at 0x128b1e898>"
      ]
     },
     "execution_count": 382,
     "metadata": {},
     "output_type": "execute_result"
    },
    {
     "data": {
      "image/png": "[encoded data removed]",
      "text/plain": [
       "<Figure size 432x288 with 1 Axes>"
      ]
     },
     "metadata": {},
     "output_type": "display_data"
    }
   ],
   "source": [
    "plt.scatter(x_test[:,0], x_test[:,1], c=y_test)"
   ]
  },
  {
   "cell_type": "code",
   "execution_count": 393,
   "metadata": {
    "collapsed": true
   },
   "outputs": [],
   "source": [
    "Z = clf3.predict(list(zip(X1, Y1)))"
   ]
  },
  {
   "cell_type": "code",
   "execution_count": 394,
   "metadata": {
    "collapsed": false
   },
   "outputs": [
    {
     "data": {
      "text/plain": [
       "<matplotlib.collections.PathCollection at 0x12986bf60>"
      ]
     },
     "execution_count": 394,
     "metadata": {},
     "output_type": "execute_result"
    },
    {
     "data": {
      "image/png": "[encoded data removed]",
      "text/plain": [
       "<Figure size 432x288 with 1 Axes>"
      ]
     },
     "metadata": {},
     "output_type": "display_data"
    }
   ],
   "source": [
    "plt.scatter(X1, Y1, c = Z)"
   ]
  },
  {
   "cell_type": "code",
   "execution_count": 395,
   "metadata": {
    "collapsed": true
   },
   "outputs": [],
   "source": [
    "Z1 = Z.reshape(X.shape)"
   ]
  },
  {
   "cell_type": "code",
   "execution_count": 396,
   "metadata": {
    "collapsed": false
   },
   "outputs": [
    {
     "data": {
      "text/plain": [
       "<matplotlib.contour.QuadContourSet at 0x12996b400>"
      ]
     },
     "execution_count": 396,
     "metadata": {},
     "output_type": "execute_result"
    },
    {
     "data": {
      "image/png": "[encoded data removed]",
      "text/plain": [
       "<Figure size 432x288 with 1 Axes>"
      ]
     },
     "metadata": {},
     "output_type": "display_data"
    }
   ],
   "source": [
    "plt.contourf(X, Y, Z1, cmap=plt.cm.coolwarm, alpha=0.8)"
   ]
  },
  {
   "cell_type": "code",
   "execution_count": null,
   "metadata": {
    "collapsed": true
   },
   "outputs": [],
   "source": []
  }
 ],
 "metadata": {
  "kernelspec": {
   "display_name": "Python 3",
   "language": "python",
   "name": "python3"
  },
  "language_info": {
   "codemirror_mode": {
    "name": "ipython",
    "version": 3
   },
   "file_extension": ".py",
   "mimetype": "text/x-python",
   "name": "python",
   "nbconvert_exporter": "python",
   "pygments_lexer": "ipython3",
   "version": "3.6.0"
  }
 },
 "nbformat": 4,
 "nbformat_minor": 2
}
